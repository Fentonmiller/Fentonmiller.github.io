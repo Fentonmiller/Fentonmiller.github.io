{
 "cells": [
  {
   "cell_type": "markdown",
   "metadata": {},
   "source": [
    "<center><img src=\"https://techcrunch.com/wp-content/uploads/2017/11/next-gen-stats.jpg?w=1390&crop=1\" style=\"width: 600px; margin-left: 160px\" /></center>"
   ]
  },
  {
   "cell_type": "markdown",
   "metadata": {},
   "source": [
    "<center> <h1 style=\"font-size: 35px\">Predicting Potential Hall of Fame Candidates in the National Football League </h1> </center>"
   ]
  },
  {
   "cell_type": "markdown",
   "metadata": {},
   "source": [
    "<center style=\"margin-left: -55px\"> Charles Fentonmiller, Max Sidebotham </center>"
   ]
  },
  {
   "cell_type": "markdown",
   "metadata": {},
   "source": [
    "# <center> Introduction </center>"
   ]
  },
  {
   "cell_type": "markdown",
   "metadata": {},
   "source": [
    "Football is one of the most popular and most violent sports in the United States. On every level of competition be it high school, collegiate, or professional, football brings in more money and more attention in the United States than any other sport. The NFL or the National Football League is the biggest football organization in the world. With each team in the organization averaging around 2.86 billion dollars in net worth and each game pulling in over 158 million viewers with the Superbowl reaching around 100 million; the NFL is a monster of an association.  \n",
    "\n",
    "Football is played on a grass field that spans 120 yards with ten of those yards at each end representing the endzone for each team. At any given time in a game, there are eleven people from each team taking turns playing offence or defense with the goal of moving the ball to the other teams endzone or stopping the opposition from doing the same thing. There are many different positions on the offensive and defensive sides but the most important position by far is the quarterback. The quarterback is the leader of the offence and touches the ball every single play, because of this the quarterback has the most influence on the outcome of a game compared to all other positions which may only touch the ball a small percentage of the snaps. Generally, a quarterback can choose to either throw the ball to a receiver, run himself, or hand it off to a running back for a run. This means that the easiest way to compare quarterbacks is with stats such as passing yards or touch down to interception ratios because his main job is to throw the ball and when he hands it off someone else is doing the work. Throughout the course of a season sports analysists will look at these basic stats each game to determine how good a quarterback is playing, yet in the end, because a quarterback has so much to do with the outcome of a game, if a team does not make it to the playoffs and do well the brunt of the blame is places on him. Therefore, there are sometimes discrepancies between stats and championships, some QBs can put up numbers but their teams are not good enough to win while other QBs may put up worse stats but still win.\n",
    "\n",
    "Sports in general tend to be a hard topic for data analytics because there are so many things that could affect the outcome of a game or how well a player performs. There are some players that do not put up good stats but have intangibles such as leadership or the ability to stay calm under pressure that may lead to them winning more games and are very hard to record and quantify. This leads to some players making you just believe in them or give you the feeling that they are good even if there is no real reason to think so.\n",
    "\n",
    "The Pro Football Hall of Fame represents a list of all the best players determined by a committee of qualified individuals. When a player retires the commute reviews that players career and votes on whether they belong in the Hall of Fame.  There are no specific rules or clear equation that results in a player getting the thumbs up or thumbs down from the committee; votes are cast based on whatever each member thinks are important. The goals of this project are to see if there are common trends that place a quarterback in the Hall of Fame and to be able to accurately determine if a player will eventually make it into the Hall of Fame.\n",
    "\n",
    "Data was collected and merged from Pro Football Reference and a Kaggle data set called NFL-Statistics."
   ]
  },
  {
   "cell_type": "markdown",
   "metadata": {},
   "source": [
    "# <center> Imports and Settings </center>"
   ]
  },
  {
   "cell_type": "code",
   "execution_count": 1,
   "metadata": {},
   "outputs": [],
   "source": [
    "import pandas as pd\n",
    "import numpy as np\n",
    "import seaborn as sns\n",
    "import matplotlib.pyplot as plt\n",
    "from sklearn import svm\n",
    "from sklearn.model_selection import train_test_split\n",
    "from sklearn.linear_model import LogisticRegression\n",
    "\n",
    "pd.options.display.max_columns = None\n",
    "pd.options.mode.chained_assignment = None"
   ]
  },
  {
   "cell_type": "markdown",
   "metadata": {},
   "source": [
    "# <center> Retrieving and Parsing the Data </center>"
   ]
  },
  {
   "cell_type": "markdown",
   "metadata": {},
   "source": [
    "## <center> Hall Of Fame Players </center>"
   ]
  },
  {
   "cell_type": "code",
   "execution_count": 2,
   "metadata": {},
   "outputs": [],
   "source": [
    "hof_data = pd.read_csv('data/HOF_data.csv')"
   ]
  },
  {
   "cell_type": "code",
   "execution_count": 3,
   "metadata": {},
   "outputs": [],
   "source": [
    "def qb_and_rb(pos):\n",
    "    if pos == 'QB':\n",
    "        return pos\n",
    "    else:\n",
    "        return np.nan"
   ]
  },
  {
   "cell_type": "code",
   "execution_count": 4,
   "metadata": {},
   "outputs": [],
   "source": [
    "hof_data['Pos'] = hof_data['Pos'].apply(lambda x: qb_and_rb(x))\n",
    "hof_data.drop('Lng.2', axis=1, inplace=True)\n",
    "hof_data.drop('Lng.1', axis=1, inplace=True)\n",
    "hof_data.drop('TD.2', axis=1, inplace=True)\n",
    "hof_data.drop('Yds.3', axis=1, inplace=True)\n",
    "hof_data.drop('Yds.1', axis=1, inplace=True)\n",
    "hof_data.drop('Rec', axis=1, inplace=True)\n",
    "hof_data.drop('CarAV', axis=1, inplace=True)\n",
    "hof_data.drop('St', axis=1, inplace=True)\n",
    "hof_data.drop('Lng', axis=1, inplace=True)"
   ]
  },
  {
   "cell_type": "code",
   "execution_count": 5,
   "metadata": {},
   "outputs": [],
   "source": [
    "hof_data.dropna(inplace=True)\n",
    "hof_data.reset_index(inplace=True)\n",
    "hof_data.drop('index', axis=1, inplace=True)"
   ]
  },
  {
   "cell_type": "code",
   "execution_count": 6,
   "metadata": {},
   "outputs": [],
   "source": [
    "hof_data.rename(columns={'AP1': 'First_Team_AP', 'G': 'Num_Games', 'PB': 'Pro_Bowl', 'Cmp': 'Pass_Cmp', 'Att': 'Pass_Att', 'Yds': 'Pass_Yds'}, inplace=True)\n",
    "hof_data.rename(columns={'TD': 'Pass_TD', 'Int': 'Interceptions', 'Sk': 'Times_Sacked', 'Att.1': 'Rushing_Att', 'Yds.2': 'Rushing_Yds', 'TD.1': 'Rushing_Tds',}, inplace=True)"
   ]
  },
  {
   "cell_type": "code",
   "execution_count": 7,
   "metadata": {},
   "outputs": [
    {
     "data": {
      "text/html": [
       "<div>\n",
       "<style scoped>\n",
       "    .dataframe tbody tr th:only-of-type {\n",
       "        vertical-align: middle;\n",
       "    }\n",
       "\n",
       "    .dataframe tbody tr th {\n",
       "        vertical-align: top;\n",
       "    }\n",
       "\n",
       "    .dataframe thead th {\n",
       "        text-align: right;\n",
       "    }\n",
       "</style>\n",
       "<table border=\"1\" class=\"dataframe\">\n",
       "  <thead>\n",
       "    <tr style=\"text-align: right;\">\n",
       "      <th></th>\n",
       "      <th>Rk</th>\n",
       "      <th>Player</th>\n",
       "      <th>Pos</th>\n",
       "      <th>Indct</th>\n",
       "      <th>From</th>\n",
       "      <th>To</th>\n",
       "      <th>First_Team_AP</th>\n",
       "      <th>Pro_Bowl</th>\n",
       "      <th>Num_Games</th>\n",
       "      <th>Pass_Cmp</th>\n",
       "      <th>Pass_Att</th>\n",
       "      <th>Pass_Yds</th>\n",
       "      <th>Pass_TD</th>\n",
       "      <th>Interceptions</th>\n",
       "      <th>Times_Sacked</th>\n",
       "      <th>Rushing_Att</th>\n",
       "      <th>Rushing_Yds</th>\n",
       "      <th>Rushing_Tds</th>\n",
       "    </tr>\n",
       "  </thead>\n",
       "  <tbody>\n",
       "    <tr>\n",
       "      <th>0</th>\n",
       "      <td>19</td>\n",
       "      <td>Kurt Warner\\WarnKu00</td>\n",
       "      <td>QB</td>\n",
       "      <td>2017</td>\n",
       "      <td>1998</td>\n",
       "      <td>2009</td>\n",
       "      <td>2</td>\n",
       "      <td>4</td>\n",
       "      <td>124</td>\n",
       "      <td>2666.0</td>\n",
       "      <td>4070.0</td>\n",
       "      <td>32344.0</td>\n",
       "      <td>208.0</td>\n",
       "      <td>128.0</td>\n",
       "      <td>260.0</td>\n",
       "      <td>173.0</td>\n",
       "      <td>286.0</td>\n",
       "      <td>3.0</td>\n",
       "    </tr>\n",
       "    <tr>\n",
       "      <th>1</th>\n",
       "      <td>20</td>\n",
       "      <td>Brett Favre\\FavrBr00</td>\n",
       "      <td>QB</td>\n",
       "      <td>2016</td>\n",
       "      <td>1991</td>\n",
       "      <td>2010</td>\n",
       "      <td>3</td>\n",
       "      <td>11</td>\n",
       "      <td>302</td>\n",
       "      <td>6300.0</td>\n",
       "      <td>10169.0</td>\n",
       "      <td>71838.0</td>\n",
       "      <td>508.0</td>\n",
       "      <td>336.0</td>\n",
       "      <td>525.0</td>\n",
       "      <td>602.0</td>\n",
       "      <td>1844.0</td>\n",
       "      <td>14.0</td>\n",
       "    </tr>\n",
       "    <tr>\n",
       "      <th>2</th>\n",
       "      <td>24</td>\n",
       "      <td>Ken Stabler\\StabKe00</td>\n",
       "      <td>QB</td>\n",
       "      <td>2016</td>\n",
       "      <td>1970</td>\n",
       "      <td>1984</td>\n",
       "      <td>1</td>\n",
       "      <td>4</td>\n",
       "      <td>184</td>\n",
       "      <td>2270.0</td>\n",
       "      <td>3793.0</td>\n",
       "      <td>27938.0</td>\n",
       "      <td>194.0</td>\n",
       "      <td>222.0</td>\n",
       "      <td>281.0</td>\n",
       "      <td>118.0</td>\n",
       "      <td>93.0</td>\n",
       "      <td>4.0</td>\n",
       "    </tr>\n",
       "    <tr>\n",
       "      <th>3</th>\n",
       "      <td>81</td>\n",
       "      <td>Troy Aikman\\AikmTr00</td>\n",
       "      <td>QB</td>\n",
       "      <td>2006</td>\n",
       "      <td>1989</td>\n",
       "      <td>2000</td>\n",
       "      <td>0</td>\n",
       "      <td>6</td>\n",
       "      <td>165</td>\n",
       "      <td>2898.0</td>\n",
       "      <td>4715.0</td>\n",
       "      <td>32942.0</td>\n",
       "      <td>165.0</td>\n",
       "      <td>141.0</td>\n",
       "      <td>259.0</td>\n",
       "      <td>327.0</td>\n",
       "      <td>1016.0</td>\n",
       "      <td>9.0</td>\n",
       "    </tr>\n",
       "    <tr>\n",
       "      <th>4</th>\n",
       "      <td>83</td>\n",
       "      <td>Warren Moon\\MoonWa00</td>\n",
       "      <td>QB</td>\n",
       "      <td>2006</td>\n",
       "      <td>1984</td>\n",
       "      <td>2000</td>\n",
       "      <td>0</td>\n",
       "      <td>9</td>\n",
       "      <td>208</td>\n",
       "      <td>3988.0</td>\n",
       "      <td>6823.0</td>\n",
       "      <td>49325.0</td>\n",
       "      <td>291.0</td>\n",
       "      <td>233.0</td>\n",
       "      <td>458.0</td>\n",
       "      <td>543.0</td>\n",
       "      <td>1736.0</td>\n",
       "      <td>22.0</td>\n",
       "    </tr>\n",
       "  </tbody>\n",
       "</table>\n",
       "</div>"
      ],
      "text/plain": [
       "   Rk                Player Pos  Indct  From    To  First_Team_AP  Pro_Bowl  \\\n",
       "0  19  Kurt Warner\\WarnKu00  QB   2017  1998  2009              2         4   \n",
       "1  20  Brett Favre\\FavrBr00  QB   2016  1991  2010              3        11   \n",
       "2  24  Ken Stabler\\StabKe00  QB   2016  1970  1984              1         4   \n",
       "3  81  Troy Aikman\\AikmTr00  QB   2006  1989  2000              0         6   \n",
       "4  83  Warren Moon\\MoonWa00  QB   2006  1984  2000              0         9   \n",
       "\n",
       "   Num_Games  Pass_Cmp  Pass_Att  Pass_Yds  Pass_TD  Interceptions  \\\n",
       "0        124    2666.0    4070.0   32344.0    208.0          128.0   \n",
       "1        302    6300.0   10169.0   71838.0    508.0          336.0   \n",
       "2        184    2270.0    3793.0   27938.0    194.0          222.0   \n",
       "3        165    2898.0    4715.0   32942.0    165.0          141.0   \n",
       "4        208    3988.0    6823.0   49325.0    291.0          233.0   \n",
       "\n",
       "   Times_Sacked  Rushing_Att  Rushing_Yds  Rushing_Tds  \n",
       "0         260.0        173.0        286.0          3.0  \n",
       "1         525.0        602.0       1844.0         14.0  \n",
       "2         281.0        118.0         93.0          4.0  \n",
       "3         259.0        327.0       1016.0          9.0  \n",
       "4         458.0        543.0       1736.0         22.0  "
      ]
     },
     "execution_count": 7,
     "metadata": {},
     "output_type": "execute_result"
    }
   ],
   "source": [
    "hof_data.head()"
   ]
  },
  {
   "cell_type": "markdown",
   "metadata": {},
   "source": [
    "## <center> Statistics and Information on All Players </center>"
   ]
  },
  {
   "cell_type": "code",
   "execution_count": 8,
   "metadata": {},
   "outputs": [],
   "source": [
    "basic_stats = pd.read_csv('data/Basic_Stats.csv')"
   ]
  },
  {
   "cell_type": "code",
   "execution_count": 9,
   "metadata": {},
   "outputs": [
    {
     "data": {
      "text/html": [
       "<div>\n",
       "<style scoped>\n",
       "    .dataframe tbody tr th:only-of-type {\n",
       "        vertical-align: middle;\n",
       "    }\n",
       "\n",
       "    .dataframe tbody tr th {\n",
       "        vertical-align: top;\n",
       "    }\n",
       "\n",
       "    .dataframe thead th {\n",
       "        text-align: right;\n",
       "    }\n",
       "</style>\n",
       "<table border=\"1\" class=\"dataframe\">\n",
       "  <thead>\n",
       "    <tr style=\"text-align: right;\">\n",
       "      <th></th>\n",
       "      <th>Birth Place</th>\n",
       "      <th>Birthday</th>\n",
       "      <th>College</th>\n",
       "      <th>Current Status</th>\n",
       "      <th>Experience</th>\n",
       "      <th>Height (inches)</th>\n",
       "      <th>Name</th>\n",
       "      <th>Player_Id</th>\n",
       "      <th>Weight (lbs)</th>\n",
       "    </tr>\n",
       "  </thead>\n",
       "  <tbody>\n",
       "    <tr>\n",
       "      <th>0</th>\n",
       "      <td>Grand Rapids , MI</td>\n",
       "      <td>5/23/1921</td>\n",
       "      <td>Notre Dame</td>\n",
       "      <td>Retired</td>\n",
       "      <td>3 Seasons</td>\n",
       "      <td>71.0</td>\n",
       "      <td>Evans, Fred</td>\n",
       "      <td>fredevans/2513736</td>\n",
       "      <td>185.0</td>\n",
       "    </tr>\n",
       "    <tr>\n",
       "      <th>1</th>\n",
       "      <td>Dayton , OH</td>\n",
       "      <td>12/21/1930</td>\n",
       "      <td>Dayton</td>\n",
       "      <td>Retired</td>\n",
       "      <td>1 Season</td>\n",
       "      <td>70.0</td>\n",
       "      <td>Raiff, Jim</td>\n",
       "      <td>jimraiff/2523700</td>\n",
       "      <td>235.0</td>\n",
       "    </tr>\n",
       "    <tr>\n",
       "      <th>2</th>\n",
       "      <td>Temple , TX</td>\n",
       "      <td>9/11/1960</td>\n",
       "      <td>Louisiana Tech</td>\n",
       "      <td>Retired</td>\n",
       "      <td>1 Season</td>\n",
       "      <td>74.0</td>\n",
       "      <td>Fowler, Bobby</td>\n",
       "      <td>bobbyfowler/2514295</td>\n",
       "      <td>230.0</td>\n",
       "    </tr>\n",
       "    <tr>\n",
       "      <th>3</th>\n",
       "      <td>New Orleans , LA</td>\n",
       "      <td>9/30/1986</td>\n",
       "      <td>LSU</td>\n",
       "      <td>Retired</td>\n",
       "      <td>5 Seasons</td>\n",
       "      <td>73.0</td>\n",
       "      <td>Johnson, Quinn</td>\n",
       "      <td>quinnjohnson/79593</td>\n",
       "      <td>255.0</td>\n",
       "    </tr>\n",
       "    <tr>\n",
       "      <th>4</th>\n",
       "      <td>Detroit , MI</td>\n",
       "      <td>3/31/1992</td>\n",
       "      <td>Central Michigan</td>\n",
       "      <td>Active</td>\n",
       "      <td>3rd season</td>\n",
       "      <td>77.0</td>\n",
       "      <td>Walton, L.T.</td>\n",
       "      <td>l.t.walton/2552444</td>\n",
       "      <td>305.0</td>\n",
       "    </tr>\n",
       "  </tbody>\n",
       "</table>\n",
       "</div>"
      ],
      "text/plain": [
       "         Birth Place    Birthday           College Current Status  Experience  \\\n",
       "0  Grand Rapids , MI   5/23/1921        Notre Dame        Retired   3 Seasons   \n",
       "1        Dayton , OH  12/21/1930            Dayton        Retired    1 Season   \n",
       "2        Temple , TX   9/11/1960    Louisiana Tech        Retired    1 Season   \n",
       "3   New Orleans , LA   9/30/1986               LSU        Retired   5 Seasons   \n",
       "4       Detroit , MI   3/31/1992  Central Michigan         Active  3rd season   \n",
       "\n",
       "   Height (inches)            Name            Player_Id  Weight (lbs)  \n",
       "0             71.0     Evans, Fred    fredevans/2513736         185.0  \n",
       "1             70.0      Raiff, Jim     jimraiff/2523700         235.0  \n",
       "2             74.0   Fowler, Bobby  bobbyfowler/2514295         230.0  \n",
       "3             73.0  Johnson, Quinn   quinnjohnson/79593         255.0  \n",
       "4             77.0    Walton, L.T.   l.t.walton/2552444         305.0  "
      ]
     },
     "execution_count": 9,
     "metadata": {},
     "output_type": "execute_result"
    }
   ],
   "source": [
    "basic_stats = pd.read_csv('data/Basic_Stats.csv')\n",
    "basic_stats.drop('Position', axis=1, inplace=True)\n",
    "basic_stats.drop('Number', axis=1, inplace=True)\n",
    "basic_stats.drop('Current Team', axis=1, inplace=True)\n",
    "basic_stats.drop('High School', axis=1, inplace=True)\n",
    "basic_stats.drop('Years Played', axis=1, inplace=True)\n",
    "basic_stats.drop('Age', axis=1, inplace=True)\n",
    "basic_stats.drop('High School Location', axis=1, inplace=True)\n",
    "basic_stats.dropna(inplace=True)\n",
    "basic_stats.reset_index(inplace=True)\n",
    "basic_stats.drop('index', axis=1, inplace=True)\n",
    "basic_stats.rename(columns={'Player Id': 'Player_Id'}, inplace=True)\n",
    "basic_stats.head()"
   ]
  },
  {
   "cell_type": "markdown",
   "metadata": {},
   "source": [
    "## <center> Linking Player ID From Stats Tables to HoF Table </center>"
   ]
  },
  {
   "cell_type": "code",
   "execution_count": 10,
   "metadata": {},
   "outputs": [],
   "source": [
    "player_ids = []\n",
    "not_in = []\n",
    "not_in_index = []\n",
    "i = 0\n",
    "for item in hof_data['Player']:\n",
    "    name = item.split('\\\\')[0]\n",
    "    name = name.split(' ')\n",
    "    name = name[1] + ', ' + name[0]\n",
    "    found = basic_stats[basic_stats['Name'].str.contains(name)]\n",
    "    if name == 'Young, Steve':\n",
    "        player_ids.append(found.Player_Id.to_string().split(' ')[8])\n",
    "    elif name == 'Kelly, Jim':\n",
    "        player_ids.append(found.Player_Id.to_string().split(' ')[10])\n",
    "    else:\n",
    "        check = found.Player_Id.to_string().split(' ')\n",
    "        if len(check) < 5:\n",
    "            not_in.append(name)\n",
    "            not_in_index.append(i)\n",
    "        else:\n",
    "            player_ids.append(found.Player_Id.to_string().split(' ')[4])\n",
    "    \n",
    "    i = i + 1"
   ]
  },
  {
   "cell_type": "code",
   "execution_count": 11,
   "metadata": {},
   "outputs": [],
   "source": [
    "hof_data_with_id = hof_data.drop(2, axis=0)\n",
    "hof_data_with_id.drop(4, axis=0, inplace=True)\n",
    "hof_data_with_id.drop(9, axis=0, inplace=True)\n",
    "hof_data_with_id.drop(11, axis=0, inplace=True)\n",
    "hof_data_with_id.drop(12, axis=0, inplace=True)\n",
    "hof_data_with_id.drop(16, axis=0, inplace=True)\n",
    "hof_data_with_id.drop(17, axis=0, inplace=True)\n",
    "hof_data_with_id.drop(18, axis=0, inplace=True)\n",
    "hof_data_with_id.drop(20, axis=0, inplace=True)\n",
    "hof_data_with_id.reset_index(inplace=True)\n",
    "hof_data_with_id.drop('index', axis=1, inplace=True)\n",
    "hof_data_with_id['Player_Id'] = player_ids"
   ]
  },
  {
   "cell_type": "code",
   "execution_count": 12,
   "metadata": {},
   "outputs": [
    {
     "data": {
      "text/html": [
       "<div>\n",
       "<style scoped>\n",
       "    .dataframe tbody tr th:only-of-type {\n",
       "        vertical-align: middle;\n",
       "    }\n",
       "\n",
       "    .dataframe tbody tr th {\n",
       "        vertical-align: top;\n",
       "    }\n",
       "\n",
       "    .dataframe thead th {\n",
       "        text-align: right;\n",
       "    }\n",
       "</style>\n",
       "<table border=\"1\" class=\"dataframe\">\n",
       "  <thead>\n",
       "    <tr style=\"text-align: right;\">\n",
       "      <th></th>\n",
       "      <th>Rk</th>\n",
       "      <th>Player</th>\n",
       "      <th>Pos</th>\n",
       "      <th>Indct</th>\n",
       "      <th>From</th>\n",
       "      <th>To</th>\n",
       "      <th>First_Team_AP</th>\n",
       "      <th>Pro_Bowl</th>\n",
       "      <th>Num_Games</th>\n",
       "      <th>Pass_Cmp</th>\n",
       "      <th>Pass_Att</th>\n",
       "      <th>Pass_Yds</th>\n",
       "      <th>Pass_TD</th>\n",
       "      <th>Interceptions</th>\n",
       "      <th>Times_Sacked</th>\n",
       "      <th>Rushing_Att</th>\n",
       "      <th>Rushing_Yds</th>\n",
       "      <th>Rushing_Tds</th>\n",
       "      <th>Player_Id</th>\n",
       "    </tr>\n",
       "  </thead>\n",
       "  <tbody>\n",
       "    <tr>\n",
       "      <th>0</th>\n",
       "      <td>19</td>\n",
       "      <td>Kurt Warner\\WarnKu00</td>\n",
       "      <td>QB</td>\n",
       "      <td>2017</td>\n",
       "      <td>1998</td>\n",
       "      <td>2009</td>\n",
       "      <td>2</td>\n",
       "      <td>4</td>\n",
       "      <td>124</td>\n",
       "      <td>2666.0</td>\n",
       "      <td>4070.0</td>\n",
       "      <td>32344.0</td>\n",
       "      <td>208.0</td>\n",
       "      <td>128.0</td>\n",
       "      <td>260.0</td>\n",
       "      <td>173.0</td>\n",
       "      <td>286.0</td>\n",
       "      <td>3.0</td>\n",
       "      <td>kurtwarner/2503540</td>\n",
       "    </tr>\n",
       "    <tr>\n",
       "      <th>1</th>\n",
       "      <td>20</td>\n",
       "      <td>Brett Favre\\FavrBr00</td>\n",
       "      <td>QB</td>\n",
       "      <td>2016</td>\n",
       "      <td>1991</td>\n",
       "      <td>2010</td>\n",
       "      <td>3</td>\n",
       "      <td>11</td>\n",
       "      <td>302</td>\n",
       "      <td>6300.0</td>\n",
       "      <td>10169.0</td>\n",
       "      <td>71838.0</td>\n",
       "      <td>508.0</td>\n",
       "      <td>336.0</td>\n",
       "      <td>525.0</td>\n",
       "      <td>602.0</td>\n",
       "      <td>1844.0</td>\n",
       "      <td>14.0</td>\n",
       "      <td>brettfavre/2500606</td>\n",
       "    </tr>\n",
       "    <tr>\n",
       "      <th>2</th>\n",
       "      <td>81</td>\n",
       "      <td>Troy Aikman\\AikmTr00</td>\n",
       "      <td>QB</td>\n",
       "      <td>2006</td>\n",
       "      <td>1989</td>\n",
       "      <td>2000</td>\n",
       "      <td>0</td>\n",
       "      <td>6</td>\n",
       "      <td>165</td>\n",
       "      <td>2898.0</td>\n",
       "      <td>4715.0</td>\n",
       "      <td>32942.0</td>\n",
       "      <td>165.0</td>\n",
       "      <td>141.0</td>\n",
       "      <td>259.0</td>\n",
       "      <td>327.0</td>\n",
       "      <td>1016.0</td>\n",
       "      <td>9.0</td>\n",
       "      <td>troyaikman/2499369</td>\n",
       "    </tr>\n",
       "    <tr>\n",
       "      <th>3</th>\n",
       "      <td>87</td>\n",
       "      <td>Dan Marino\\MariDa00</td>\n",
       "      <td>QB</td>\n",
       "      <td>2005</td>\n",
       "      <td>1983</td>\n",
       "      <td>1999</td>\n",
       "      <td>3</td>\n",
       "      <td>9</td>\n",
       "      <td>242</td>\n",
       "      <td>4967.0</td>\n",
       "      <td>8358.0</td>\n",
       "      <td>61361.0</td>\n",
       "      <td>420.0</td>\n",
       "      <td>252.0</td>\n",
       "      <td>270.0</td>\n",
       "      <td>301.0</td>\n",
       "      <td>87.0</td>\n",
       "      <td>9.0</td>\n",
       "      <td>danmarino/2501869</td>\n",
       "    </tr>\n",
       "    <tr>\n",
       "      <th>4</th>\n",
       "      <td>89</td>\n",
       "      <td>Steve Young\\YounSt00</td>\n",
       "      <td>QB</td>\n",
       "      <td>2005</td>\n",
       "      <td>1985</td>\n",
       "      <td>1999</td>\n",
       "      <td>3</td>\n",
       "      <td>7</td>\n",
       "      <td>169</td>\n",
       "      <td>2667.0</td>\n",
       "      <td>4149.0</td>\n",
       "      <td>33124.0</td>\n",
       "      <td>232.0</td>\n",
       "      <td>107.0</td>\n",
       "      <td>358.0</td>\n",
       "      <td>722.0</td>\n",
       "      <td>4239.0</td>\n",
       "      <td>43.0</td>\n",
       "      <td>steveyoung/2503843</td>\n",
       "    </tr>\n",
       "  </tbody>\n",
       "</table>\n",
       "</div>"
      ],
      "text/plain": [
       "   Rk                Player Pos  Indct  From    To  First_Team_AP  Pro_Bowl  \\\n",
       "0  19  Kurt Warner\\WarnKu00  QB   2017  1998  2009              2         4   \n",
       "1  20  Brett Favre\\FavrBr00  QB   2016  1991  2010              3        11   \n",
       "2  81  Troy Aikman\\AikmTr00  QB   2006  1989  2000              0         6   \n",
       "3  87   Dan Marino\\MariDa00  QB   2005  1983  1999              3         9   \n",
       "4  89  Steve Young\\YounSt00  QB   2005  1985  1999              3         7   \n",
       "\n",
       "   Num_Games  Pass_Cmp  Pass_Att  Pass_Yds  Pass_TD  Interceptions  \\\n",
       "0        124    2666.0    4070.0   32344.0    208.0          128.0   \n",
       "1        302    6300.0   10169.0   71838.0    508.0          336.0   \n",
       "2        165    2898.0    4715.0   32942.0    165.0          141.0   \n",
       "3        242    4967.0    8358.0   61361.0    420.0          252.0   \n",
       "4        169    2667.0    4149.0   33124.0    232.0          107.0   \n",
       "\n",
       "   Times_Sacked  Rushing_Att  Rushing_Yds  Rushing_Tds           Player_Id  \n",
       "0         260.0        173.0        286.0          3.0  kurtwarner/2503540  \n",
       "1         525.0        602.0       1844.0         14.0  brettfavre/2500606  \n",
       "2         259.0        327.0       1016.0          9.0  troyaikman/2499369  \n",
       "3         270.0        301.0         87.0          9.0   danmarino/2501869  \n",
       "4         358.0        722.0       4239.0         43.0  steveyoung/2503843  "
      ]
     },
     "execution_count": 12,
     "metadata": {},
     "output_type": "execute_result"
    }
   ],
   "source": [
    "hof_data_with_id.head()"
   ]
  },
  {
   "cell_type": "markdown",
   "metadata": {},
   "source": [
    "## <center> Retrieving Quarterback Statistics </center>"
   ]
  },
  {
   "cell_type": "code",
   "execution_count": 13,
   "metadata": {},
   "outputs": [],
   "source": [
    "qb = pd.read_csv('data/Game_Logs_Quarterback.csv')"
   ]
  },
  {
   "cell_type": "code",
   "execution_count": 14,
   "metadata": {},
   "outputs": [],
   "source": [
    "# win marked by 1 loss is 0\n",
    "# home marked by 1 away marked by 0"
   ]
  },
  {
   "cell_type": "code",
   "execution_count": 15,
   "metadata": {
    "scrolled": true
   },
   "outputs": [
    {
     "data": {
      "text/html": [
       "<div>\n",
       "<style scoped>\n",
       "    .dataframe tbody tr th:only-of-type {\n",
       "        vertical-align: middle;\n",
       "    }\n",
       "\n",
       "    .dataframe tbody tr th {\n",
       "        vertical-align: top;\n",
       "    }\n",
       "\n",
       "    .dataframe thead th {\n",
       "        text-align: right;\n",
       "    }\n",
       "</style>\n",
       "<table border=\"1\" class=\"dataframe\">\n",
       "  <thead>\n",
       "    <tr style=\"text-align: right;\">\n",
       "      <th></th>\n",
       "      <th>Player Id</th>\n",
       "      <th>Name</th>\n",
       "      <th>Year</th>\n",
       "      <th>Week</th>\n",
       "      <th>Home</th>\n",
       "      <th>Opponent</th>\n",
       "      <th>Outcome</th>\n",
       "      <th>Score</th>\n",
       "      <th>Passes Completed</th>\n",
       "      <th>Passes Attempted</th>\n",
       "      <th>Completion Percentage</th>\n",
       "      <th>Passing Yards</th>\n",
       "      <th>Passing Yards Per Attempt</th>\n",
       "      <th>TD Passes</th>\n",
       "      <th>Ints</th>\n",
       "      <th>Sacks</th>\n",
       "      <th>Sacked Yards Lost</th>\n",
       "      <th>Passer Rating</th>\n",
       "      <th>Rushing Attempts</th>\n",
       "      <th>Rushing Yards</th>\n",
       "      <th>Yards Per Carry</th>\n",
       "      <th>Rushing TDs</th>\n",
       "      <th>Fumbles</th>\n",
       "      <th>Fumbles Lost</th>\n",
       "    </tr>\n",
       "  </thead>\n",
       "  <tbody>\n",
       "    <tr>\n",
       "      <th>0</th>\n",
       "      <td>billdemory/2512778</td>\n",
       "      <td>Demory, Bill</td>\n",
       "      <td>1974</td>\n",
       "      <td>1</td>\n",
       "      <td>0</td>\n",
       "      <td>KC</td>\n",
       "      <td>0</td>\n",
       "      <td>16 to 24</td>\n",
       "      <td>0</td>\n",
       "      <td>0</td>\n",
       "      <td>0</td>\n",
       "      <td>0</td>\n",
       "      <td>0</td>\n",
       "      <td>0</td>\n",
       "      <td>0</td>\n",
       "      <td>0</td>\n",
       "      <td>0</td>\n",
       "      <td>0.0</td>\n",
       "      <td>0</td>\n",
       "      <td>0</td>\n",
       "      <td>0</td>\n",
       "      <td>0</td>\n",
       "      <td>0</td>\n",
       "      <td>0</td>\n",
       "    </tr>\n",
       "    <tr>\n",
       "      <th>1</th>\n",
       "      <td>billdemory/2512778</td>\n",
       "      <td>Demory, Bill</td>\n",
       "      <td>1974</td>\n",
       "      <td>2</td>\n",
       "      <td>0</td>\n",
       "      <td>CHI</td>\n",
       "      <td>1</td>\n",
       "      <td>23 to 21</td>\n",
       "      <td>0</td>\n",
       "      <td>0</td>\n",
       "      <td>0</td>\n",
       "      <td>0</td>\n",
       "      <td>0</td>\n",
       "      <td>0</td>\n",
       "      <td>0</td>\n",
       "      <td>0</td>\n",
       "      <td>0</td>\n",
       "      <td>0.0</td>\n",
       "      <td>0</td>\n",
       "      <td>0</td>\n",
       "      <td>0</td>\n",
       "      <td>0</td>\n",
       "      <td>0</td>\n",
       "      <td>0</td>\n",
       "    </tr>\n",
       "    <tr>\n",
       "      <th>2</th>\n",
       "      <td>billdemory/2512778</td>\n",
       "      <td>Demory, Bill</td>\n",
       "      <td>1974</td>\n",
       "      <td>3</td>\n",
       "      <td>0</td>\n",
       "      <td>BUF</td>\n",
       "      <td>0</td>\n",
       "      <td>12 to 16</td>\n",
       "      <td>0</td>\n",
       "      <td>0</td>\n",
       "      <td>0</td>\n",
       "      <td>0</td>\n",
       "      <td>0</td>\n",
       "      <td>0</td>\n",
       "      <td>0</td>\n",
       "      <td>0</td>\n",
       "      <td>0</td>\n",
       "      <td>0.0</td>\n",
       "      <td>0</td>\n",
       "      <td>0</td>\n",
       "      <td>0</td>\n",
       "      <td>0</td>\n",
       "      <td>0</td>\n",
       "      <td>0</td>\n",
       "    </tr>\n",
       "    <tr>\n",
       "      <th>3</th>\n",
       "      <td>billdemory/2512778</td>\n",
       "      <td>Demory, Bill</td>\n",
       "      <td>1974</td>\n",
       "      <td>4</td>\n",
       "      <td>0</td>\n",
       "      <td>MIA</td>\n",
       "      <td>0</td>\n",
       "      <td>17 to 21</td>\n",
       "      <td>0</td>\n",
       "      <td>0</td>\n",
       "      <td>0</td>\n",
       "      <td>0</td>\n",
       "      <td>0</td>\n",
       "      <td>0</td>\n",
       "      <td>0</td>\n",
       "      <td>0</td>\n",
       "      <td>0</td>\n",
       "      <td>0.0</td>\n",
       "      <td>0</td>\n",
       "      <td>0</td>\n",
       "      <td>0</td>\n",
       "      <td>0</td>\n",
       "      <td>0</td>\n",
       "      <td>0</td>\n",
       "    </tr>\n",
       "    <tr>\n",
       "      <th>4</th>\n",
       "      <td>billdemory/2512778</td>\n",
       "      <td>Demory, Bill</td>\n",
       "      <td>1974</td>\n",
       "      <td>5</td>\n",
       "      <td>1</td>\n",
       "      <td>NE</td>\n",
       "      <td>0</td>\n",
       "      <td>0 to 24</td>\n",
       "      <td>0</td>\n",
       "      <td>0</td>\n",
       "      <td>0</td>\n",
       "      <td>0</td>\n",
       "      <td>0</td>\n",
       "      <td>0</td>\n",
       "      <td>0</td>\n",
       "      <td>0</td>\n",
       "      <td>0</td>\n",
       "      <td>0.0</td>\n",
       "      <td>0</td>\n",
       "      <td>0</td>\n",
       "      <td>0</td>\n",
       "      <td>0</td>\n",
       "      <td>0</td>\n",
       "      <td>0</td>\n",
       "    </tr>\n",
       "  </tbody>\n",
       "</table>\n",
       "</div>"
      ],
      "text/plain": [
       "            Player Id          Name  Year  Week  Home Opponent  Outcome  \\\n",
       "0  billdemory/2512778  Demory, Bill  1974     1     0       KC        0   \n",
       "1  billdemory/2512778  Demory, Bill  1974     2     0      CHI        1   \n",
       "2  billdemory/2512778  Demory, Bill  1974     3     0      BUF        0   \n",
       "3  billdemory/2512778  Demory, Bill  1974     4     0      MIA        0   \n",
       "4  billdemory/2512778  Demory, Bill  1974     5     1       NE        0   \n",
       "\n",
       "      Score Passes Completed Passes Attempted Completion Percentage  \\\n",
       "0  16 to 24                0                0                     0   \n",
       "1  23 to 21                0                0                     0   \n",
       "2  12 to 16                0                0                     0   \n",
       "3  17 to 21                0                0                     0   \n",
       "4   0 to 24                0                0                     0   \n",
       "\n",
       "  Passing Yards Passing Yards Per Attempt TD Passes Ints Sacks  \\\n",
       "0             0                         0         0    0     0   \n",
       "1             0                         0         0    0     0   \n",
       "2             0                         0         0    0     0   \n",
       "3             0                         0         0    0     0   \n",
       "4             0                         0         0    0     0   \n",
       "\n",
       "  Sacked Yards Lost  Passer Rating Rushing Attempts Rushing Yards  \\\n",
       "0                 0            0.0                0             0   \n",
       "1                 0            0.0                0             0   \n",
       "2                 0            0.0                0             0   \n",
       "3                 0            0.0                0             0   \n",
       "4                 0            0.0                0             0   \n",
       "\n",
       "  Yards Per Carry Rushing TDs Fumbles Fumbles Lost  \n",
       "0               0           0       0            0  \n",
       "1               0           0       0            0  \n",
       "2               0           0       0            0  \n",
       "3               0           0       0            0  \n",
       "4               0           0       0            0  "
      ]
     },
     "execution_count": 15,
     "metadata": {},
     "output_type": "execute_result"
    }
   ],
   "source": [
    "qb.drop('Position', axis=1, inplace=True)\n",
    "qb.drop('Game Date', axis=1, inplace=True)\n",
    "qb.drop('Games Played', axis=1, inplace=True)\n",
    "qb.drop('Games Started', axis=1, inplace=True)\n",
    "qb['Season'] = qb['Season'].apply(lambda x: np.nan if x == 'Preseason' else x)\n",
    "qb['Home or Away'] = qb['Home or Away'].apply(lambda x: 0 if x == 'Away' else 1)\n",
    "qb.rename(columns={'Home or Away': 'Home'}, inplace=True)\n",
    "qb = qb.replace('--',0)\n",
    "qb.dropna(inplace=True)\n",
    "qb.drop('Season', axis=1, inplace=True)\n",
    "qb['Outcome'] = qb['Outcome'].apply(lambda x: 0 if x == 'L' else 1)\n",
    "qb.reset_index(inplace=True)\n",
    "qb.drop('index', axis=1, inplace=True)\n",
    "qb.head()"
   ]
  },
  {
   "cell_type": "code",
   "execution_count": 16,
   "metadata": {},
   "outputs": [],
   "source": [
    "qb['Num_Games'] = np.ones(len(qb))"
   ]
  },
  {
   "cell_type": "code",
   "execution_count": 17,
   "metadata": {},
   "outputs": [
    {
     "name": "stderr",
     "output_type": "stream",
     "text": [
      "c:\\users\\stoney\\appdata\\local\\programs\\python\\python36\\lib\\site-packages\\ipykernel_launcher.py:1: FutureWarning: convert_objects is deprecated.  To re-infer data dtypes for object columns, use DataFrame.infer_objects()\n",
      "For all other conversions use the data-type specific converters pd.to_datetime, pd.to_timedelta and pd.to_numeric.\n",
      "  \"\"\"Entry point for launching an IPython kernel.\n"
     ]
    }
   ],
   "source": [
    "qb = qb.convert_objects(convert_numeric=True)\n",
    "qb_sum = qb.groupby(['Name']).sum()\n",
    "qb_sum.drop(['Year', 'Week', 'Home', 'Outcome', 'Passer Rating'], axis=1, inplace=True)\n",
    "qb_sum['Player Id'] = qb_sum.index"
   ]
  },
  {
   "cell_type": "code",
   "execution_count": 18,
   "metadata": {},
   "outputs": [
    {
     "data": {
      "text/html": [
       "<div>\n",
       "<style scoped>\n",
       "    .dataframe tbody tr th:only-of-type {\n",
       "        vertical-align: middle;\n",
       "    }\n",
       "\n",
       "    .dataframe tbody tr th {\n",
       "        vertical-align: top;\n",
       "    }\n",
       "\n",
       "    .dataframe thead th {\n",
       "        text-align: right;\n",
       "    }\n",
       "</style>\n",
       "<table border=\"1\" class=\"dataframe\">\n",
       "  <thead>\n",
       "    <tr style=\"text-align: right;\">\n",
       "      <th></th>\n",
       "      <th>Passes Completed</th>\n",
       "      <th>Passes Attempted</th>\n",
       "      <th>Completion Percentage</th>\n",
       "      <th>Passing Yards</th>\n",
       "      <th>Passing Yards Per Attempt</th>\n",
       "      <th>TD Passes</th>\n",
       "      <th>Ints</th>\n",
       "      <th>Sacks</th>\n",
       "      <th>Sacked Yards Lost</th>\n",
       "      <th>Rushing Attempts</th>\n",
       "      <th>Rushing Yards</th>\n",
       "      <th>Yards Per Carry</th>\n",
       "      <th>Rushing TDs</th>\n",
       "      <th>Fumbles</th>\n",
       "      <th>Fumbles Lost</th>\n",
       "      <th>Num_Games</th>\n",
       "      <th>Player Id</th>\n",
       "      <th>Current Status</th>\n",
       "    </tr>\n",
       "  </thead>\n",
       "  <tbody>\n",
       "    <tr>\n",
       "      <th>0</th>\n",
       "      <td>212.0</td>\n",
       "      <td>408.0</td>\n",
       "      <td>1161.3</td>\n",
       "      <td>2733.0</td>\n",
       "      <td>161.0</td>\n",
       "      <td>12.0</td>\n",
       "      <td>27.0</td>\n",
       "      <td>59.0</td>\n",
       "      <td>447.0</td>\n",
       "      <td>38.0</td>\n",
       "      <td>155.0</td>\n",
       "      <td>89.8</td>\n",
       "      <td>0.0</td>\n",
       "      <td>0.0</td>\n",
       "      <td>0.0</td>\n",
       "      <td>61.0</td>\n",
       "      <td>Adams, Tony</td>\n",
       "      <td>Retired</td>\n",
       "    </tr>\n",
       "    <tr>\n",
       "      <th>1</th>\n",
       "      <td>17.0</td>\n",
       "      <td>39.0</td>\n",
       "      <td>322.5</td>\n",
       "      <td>232.0</td>\n",
       "      <td>53.6</td>\n",
       "      <td>2.0</td>\n",
       "      <td>4.0</td>\n",
       "      <td>9.0</td>\n",
       "      <td>73.0</td>\n",
       "      <td>14.0</td>\n",
       "      <td>63.0</td>\n",
       "      <td>25.8</td>\n",
       "      <td>0.0</td>\n",
       "      <td>0.0</td>\n",
       "      <td>0.0</td>\n",
       "      <td>85.0</td>\n",
       "      <td>Adkins, Sam</td>\n",
       "      <td>Retired</td>\n",
       "    </tr>\n",
       "    <tr>\n",
       "      <th>2</th>\n",
       "      <td>3235.0</td>\n",
       "      <td>5249.0</td>\n",
       "      <td>11226.2</td>\n",
       "      <td>36961.0</td>\n",
       "      <td>1303.4</td>\n",
       "      <td>189.0</td>\n",
       "      <td>159.0</td>\n",
       "      <td>295.0</td>\n",
       "      <td>1983.0</td>\n",
       "      <td>360.0</td>\n",
       "      <td>1103.0</td>\n",
       "      <td>410.9</td>\n",
       "      <td>10.0</td>\n",
       "      <td>53.0</td>\n",
       "      <td>24.0</td>\n",
       "      <td>208.0</td>\n",
       "      <td>Aikman, Troy</td>\n",
       "      <td>Retired</td>\n",
       "    </tr>\n",
       "    <tr>\n",
       "      <th>3</th>\n",
       "      <td>0.0</td>\n",
       "      <td>0.0</td>\n",
       "      <td>0.0</td>\n",
       "      <td>0.0</td>\n",
       "      <td>0.0</td>\n",
       "      <td>0.0</td>\n",
       "      <td>0.0</td>\n",
       "      <td>0.0</td>\n",
       "      <td>0.0</td>\n",
       "      <td>0.0</td>\n",
       "      <td>0.0</td>\n",
       "      <td>0.0</td>\n",
       "      <td>0.0</td>\n",
       "      <td>0.0</td>\n",
       "      <td>0.0</td>\n",
       "      <td>26.0</td>\n",
       "      <td>Ainge, Erik</td>\n",
       "      <td>Retired</td>\n",
       "    </tr>\n",
       "    <tr>\n",
       "      <th>4</th>\n",
       "      <td>0.0</td>\n",
       "      <td>0.0</td>\n",
       "      <td>0.0</td>\n",
       "      <td>0.0</td>\n",
       "      <td>0.0</td>\n",
       "      <td>0.0</td>\n",
       "      <td>0.0</td>\n",
       "      <td>0.0</td>\n",
       "      <td>0.0</td>\n",
       "      <td>0.0</td>\n",
       "      <td>0.0</td>\n",
       "      <td>0.0</td>\n",
       "      <td>0.0</td>\n",
       "      <td>0.0</td>\n",
       "      <td>0.0</td>\n",
       "      <td>16.0</td>\n",
       "      <td>Allen, Brandon</td>\n",
       "      <td>Active</td>\n",
       "    </tr>\n",
       "  </tbody>\n",
       "</table>\n",
       "</div>"
      ],
      "text/plain": [
       "   Passes Completed  Passes Attempted  Completion Percentage  Passing Yards  \\\n",
       "0             212.0             408.0                 1161.3         2733.0   \n",
       "1              17.0              39.0                  322.5          232.0   \n",
       "2            3235.0            5249.0                11226.2        36961.0   \n",
       "3               0.0               0.0                    0.0            0.0   \n",
       "4               0.0               0.0                    0.0            0.0   \n",
       "\n",
       "   Passing Yards Per Attempt  TD Passes   Ints  Sacks  Sacked Yards Lost  \\\n",
       "0                      161.0       12.0   27.0   59.0              447.0   \n",
       "1                       53.6        2.0    4.0    9.0               73.0   \n",
       "2                     1303.4      189.0  159.0  295.0             1983.0   \n",
       "3                        0.0        0.0    0.0    0.0                0.0   \n",
       "4                        0.0        0.0    0.0    0.0                0.0   \n",
       "\n",
       "   Rushing Attempts  Rushing Yards  Yards Per Carry  Rushing TDs  Fumbles  \\\n",
       "0              38.0          155.0             89.8          0.0      0.0   \n",
       "1              14.0           63.0             25.8          0.0      0.0   \n",
       "2             360.0         1103.0            410.9         10.0     53.0   \n",
       "3               0.0            0.0              0.0          0.0      0.0   \n",
       "4               0.0            0.0              0.0          0.0      0.0   \n",
       "\n",
       "   Fumbles Lost  Num_Games       Player Id Current Status  \n",
       "0           0.0       61.0     Adams, Tony        Retired  \n",
       "1           0.0       85.0     Adkins, Sam        Retired  \n",
       "2          24.0      208.0    Aikman, Troy        Retired  \n",
       "3           0.0       26.0     Ainge, Erik        Retired  \n",
       "4           0.0       16.0  Allen, Brandon         Active  "
      ]
     },
     "execution_count": 18,
     "metadata": {},
     "output_type": "execute_result"
    }
   ],
   "source": [
    "# Adding Active\n",
    "basic_stats = basic_stats.rename(columns={\"Name\": \"Player Id\"})\n",
    "current_status = basic_stats.drop([\"Birth Place\", \"Birthday\", \"College\", \"Player_Id\", \"Experience\", \"Height (inches)\", \"Weight (lbs)\"], axis=1)\n",
    "\n",
    "qb_sum = pd.merge(qb_sum, current_status, on='Player Id', how='outer')\n",
    "qb_sum = qb_sum.dropna(thresh=5)\n",
    "\n",
    "qb_sum.head()"
   ]
  },
  {
   "cell_type": "markdown",
   "metadata": {},
   "source": [
    "## <center> Moving all data into singular DataFrame </center>"
   ]
  },
  {
   "cell_type": "code",
   "execution_count": 19,
   "metadata": {},
   "outputs": [],
   "source": [
    "master_data = hof_data.copy()\n",
    "master_data.drop(['Pos', \"Indct\", \"From\", 'To', 'Rk', 'First_Team_AP', 'Pro_Bowl'], axis=1, inplace=True)\n",
    "\n",
    "def convert_id(x):\n",
    "    x = x.split('\\\\')[0]\n",
    "    x = x.split(' ')\n",
    "    x = x[1] + ', ' + x[0]\n",
    "    return x\n",
    "\n",
    "master_data = master_data.rename(columns={\n",
    "    \"Pass_Cmp\": \"Passes Completed\",\n",
    "    \"Pass_Att\": \"Passes Attempted\",\n",
    "    \"Pass_Yds\": \"Passing Yards\",\n",
    "    \"Pass_TD\": \"TD Passes\",\n",
    "    \"Interceptions\": \"Ints\",\n",
    "    \"Times_Sacked\": \"Sacks\",\n",
    "    \"Rushing_Att\": \"Rushing Attempts\",\n",
    "    \"Rushing_Yds\": \"Rushing Yards\",\n",
    "    \"Rushing_Tds\": \"Rushing TDs\",\n",
    "    \"Player\": \"Player Id\"\n",
    "})\n",
    "\n",
    "master_data['Player Id'] = master_data['Player Id'].apply(convert_id)"
   ]
  },
  {
   "cell_type": "code",
   "execution_count": 20,
   "metadata": {
    "scrolled": true
   },
   "outputs": [
    {
     "data": {
      "text/html": [
       "<div>\n",
       "<style scoped>\n",
       "    .dataframe tbody tr th:only-of-type {\n",
       "        vertical-align: middle;\n",
       "    }\n",
       "\n",
       "    .dataframe tbody tr th {\n",
       "        vertical-align: top;\n",
       "    }\n",
       "\n",
       "    .dataframe thead th {\n",
       "        text-align: right;\n",
       "    }\n",
       "</style>\n",
       "<table border=\"1\" class=\"dataframe\">\n",
       "  <thead>\n",
       "    <tr style=\"text-align: right;\">\n",
       "      <th></th>\n",
       "      <th>Player Id</th>\n",
       "      <th>Num_Games</th>\n",
       "      <th>Passes Completed</th>\n",
       "      <th>Passes Attempted</th>\n",
       "      <th>Passing Yards</th>\n",
       "      <th>TD Passes</th>\n",
       "      <th>Ints</th>\n",
       "      <th>Sacks</th>\n",
       "      <th>Rushing Attempts</th>\n",
       "      <th>Rushing Yards</th>\n",
       "      <th>Rushing TDs</th>\n",
       "      <th>HoF</th>\n",
       "      <th>Completion Percentage</th>\n",
       "      <th>Passing Yards Per Attempt</th>\n",
       "      <th>Sacked Yards Lost</th>\n",
       "      <th>Yards Per Carry</th>\n",
       "      <th>Fumbles</th>\n",
       "      <th>Fumbles Lost</th>\n",
       "      <th>Current Status</th>\n",
       "    </tr>\n",
       "  </thead>\n",
       "  <tbody>\n",
       "    <tr>\n",
       "      <th>0</th>\n",
       "      <td>Warner, Kurt</td>\n",
       "      <td>124.0</td>\n",
       "      <td>2666.0</td>\n",
       "      <td>4070.0</td>\n",
       "      <td>32344.0</td>\n",
       "      <td>208.0</td>\n",
       "      <td>128.0</td>\n",
       "      <td>260.0</td>\n",
       "      <td>173.0</td>\n",
       "      <td>286.0</td>\n",
       "      <td>3.0</td>\n",
       "      <td>True</td>\n",
       "      <td>NaN</td>\n",
       "      <td>NaN</td>\n",
       "      <td>NaN</td>\n",
       "      <td>NaN</td>\n",
       "      <td>NaN</td>\n",
       "      <td>NaN</td>\n",
       "      <td>Retired</td>\n",
       "    </tr>\n",
       "    <tr>\n",
       "      <th>1</th>\n",
       "      <td>Favre, Brett</td>\n",
       "      <td>302.0</td>\n",
       "      <td>6300.0</td>\n",
       "      <td>10169.0</td>\n",
       "      <td>71838.0</td>\n",
       "      <td>508.0</td>\n",
       "      <td>336.0</td>\n",
       "      <td>525.0</td>\n",
       "      <td>602.0</td>\n",
       "      <td>1844.0</td>\n",
       "      <td>14.0</td>\n",
       "      <td>True</td>\n",
       "      <td>NaN</td>\n",
       "      <td>NaN</td>\n",
       "      <td>NaN</td>\n",
       "      <td>NaN</td>\n",
       "      <td>NaN</td>\n",
       "      <td>NaN</td>\n",
       "      <td>Retired</td>\n",
       "    </tr>\n",
       "    <tr>\n",
       "      <th>2</th>\n",
       "      <td>Stabler, Ken</td>\n",
       "      <td>184.0</td>\n",
       "      <td>2270.0</td>\n",
       "      <td>3793.0</td>\n",
       "      <td>27938.0</td>\n",
       "      <td>194.0</td>\n",
       "      <td>222.0</td>\n",
       "      <td>281.0</td>\n",
       "      <td>118.0</td>\n",
       "      <td>93.0</td>\n",
       "      <td>4.0</td>\n",
       "      <td>True</td>\n",
       "      <td>NaN</td>\n",
       "      <td>NaN</td>\n",
       "      <td>NaN</td>\n",
       "      <td>NaN</td>\n",
       "      <td>NaN</td>\n",
       "      <td>NaN</td>\n",
       "      <td>Retired</td>\n",
       "    </tr>\n",
       "    <tr>\n",
       "      <th>3</th>\n",
       "      <td>Aikman, Troy</td>\n",
       "      <td>165.0</td>\n",
       "      <td>2898.0</td>\n",
       "      <td>4715.0</td>\n",
       "      <td>32942.0</td>\n",
       "      <td>165.0</td>\n",
       "      <td>141.0</td>\n",
       "      <td>259.0</td>\n",
       "      <td>327.0</td>\n",
       "      <td>1016.0</td>\n",
       "      <td>9.0</td>\n",
       "      <td>True</td>\n",
       "      <td>NaN</td>\n",
       "      <td>NaN</td>\n",
       "      <td>NaN</td>\n",
       "      <td>NaN</td>\n",
       "      <td>NaN</td>\n",
       "      <td>NaN</td>\n",
       "      <td>Retired</td>\n",
       "    </tr>\n",
       "    <tr>\n",
       "      <th>4</th>\n",
       "      <td>Moon, Warren</td>\n",
       "      <td>208.0</td>\n",
       "      <td>3988.0</td>\n",
       "      <td>6823.0</td>\n",
       "      <td>49325.0</td>\n",
       "      <td>291.0</td>\n",
       "      <td>233.0</td>\n",
       "      <td>458.0</td>\n",
       "      <td>543.0</td>\n",
       "      <td>1736.0</td>\n",
       "      <td>22.0</td>\n",
       "      <td>True</td>\n",
       "      <td>NaN</td>\n",
       "      <td>NaN</td>\n",
       "      <td>NaN</td>\n",
       "      <td>NaN</td>\n",
       "      <td>NaN</td>\n",
       "      <td>NaN</td>\n",
       "      <td>Retired</td>\n",
       "    </tr>\n",
       "  </tbody>\n",
       "</table>\n",
       "</div>"
      ],
      "text/plain": [
       "      Player Id  Num_Games  Passes Completed  Passes Attempted  Passing Yards  \\\n",
       "0  Warner, Kurt      124.0            2666.0            4070.0        32344.0   \n",
       "1  Favre, Brett      302.0            6300.0           10169.0        71838.0   \n",
       "2  Stabler, Ken      184.0            2270.0            3793.0        27938.0   \n",
       "3  Aikman, Troy      165.0            2898.0            4715.0        32942.0   \n",
       "4  Moon, Warren      208.0            3988.0            6823.0        49325.0   \n",
       "\n",
       "   TD Passes   Ints  Sacks  Rushing Attempts  Rushing Yards  Rushing TDs  \\\n",
       "0      208.0  128.0  260.0             173.0          286.0          3.0   \n",
       "1      508.0  336.0  525.0             602.0         1844.0         14.0   \n",
       "2      194.0  222.0  281.0             118.0           93.0          4.0   \n",
       "3      165.0  141.0  259.0             327.0         1016.0          9.0   \n",
       "4      291.0  233.0  458.0             543.0         1736.0         22.0   \n",
       "\n",
       "    HoF  Completion Percentage  Passing Yards Per Attempt  Sacked Yards Lost  \\\n",
       "0  True                    NaN                        NaN                NaN   \n",
       "1  True                    NaN                        NaN                NaN   \n",
       "2  True                    NaN                        NaN                NaN   \n",
       "3  True                    NaN                        NaN                NaN   \n",
       "4  True                    NaN                        NaN                NaN   \n",
       "\n",
       "   Yards Per Carry  Fumbles  Fumbles Lost Current Status  \n",
       "0              NaN      NaN           NaN        Retired  \n",
       "1              NaN      NaN           NaN        Retired  \n",
       "2              NaN      NaN           NaN        Retired  \n",
       "3              NaN      NaN           NaN        Retired  \n",
       "4              NaN      NaN           NaN        Retired  "
      ]
     },
     "execution_count": 20,
     "metadata": {},
     "output_type": "execute_result"
    }
   ],
   "source": [
    "master_data['HoF'] = master_data['Player Id'].apply(lambda x: True)\n",
    "master_data = pd.concat([master_data, qb_sum], ignore_index=True, sort=False)\n",
    "master_data.drop_duplicates(subset=['Player Id'], inplace=True, keep='first')\n",
    "master_data['HoF'] = master_data['HoF'].replace(np.nan, False)\n",
    "master_data['Current Status'] = master_data['Current Status'].replace(np.nan, 'Retired')\n",
    "# Remove columns with little data\n",
    "master_data = master_data.dropna(thresh=len(master_data) - 140, axis=1)\n",
    "\n",
    "master_data.head()"
   ]
  },
  {
   "cell_type": "markdown",
   "metadata": {},
   "source": [
    "## <center> Adding Game Winning Drives For All Players </center>"
   ]
  },
  {
   "cell_type": "code",
   "execution_count": 21,
   "metadata": {},
   "outputs": [],
   "source": [
    "gwd = pd.read_csv('data/game_winning_drives.csv')"
   ]
  },
  {
   "cell_type": "code",
   "execution_count": 22,
   "metadata": {
    "scrolled": true
   },
   "outputs": [],
   "source": [
    "def gwd_id_convert(x):\n",
    "    x = x.split('\\\\')[0]\n",
    "    x = x.split(' ')\n",
    "    x = x[1].replace('+', '') + ', ' + x[0]\n",
    "    return x\n",
    "\n",
    "gwd['Player'] = gwd['Player'].apply(gwd_id_convert)"
   ]
  },
  {
   "cell_type": "code",
   "execution_count": 23,
   "metadata": {
    "scrolled": true
   },
   "outputs": [
    {
     "data": {
      "text/html": [
       "<div>\n",
       "<style scoped>\n",
       "    .dataframe tbody tr th:only-of-type {\n",
       "        vertical-align: middle;\n",
       "    }\n",
       "\n",
       "    .dataframe tbody tr th {\n",
       "        vertical-align: top;\n",
       "    }\n",
       "\n",
       "    .dataframe thead th {\n",
       "        text-align: right;\n",
       "    }\n",
       "</style>\n",
       "<table border=\"1\" class=\"dataframe\">\n",
       "  <thead>\n",
       "    <tr style=\"text-align: right;\">\n",
       "      <th></th>\n",
       "      <th>Player Id</th>\n",
       "      <th>Num_Games</th>\n",
       "      <th>Passes Completed</th>\n",
       "      <th>Passes Attempted</th>\n",
       "      <th>Passing Yards</th>\n",
       "      <th>TD Passes</th>\n",
       "      <th>Ints</th>\n",
       "      <th>Sacks</th>\n",
       "      <th>Rushing Attempts</th>\n",
       "      <th>Rushing Yards</th>\n",
       "      <th>Rushing TDs</th>\n",
       "      <th>HoF</th>\n",
       "      <th>Completion Percentage</th>\n",
       "      <th>Passing Yards Per Attempt</th>\n",
       "      <th>Sacked Yards Lost</th>\n",
       "      <th>Yards Per Carry</th>\n",
       "      <th>Fumbles</th>\n",
       "      <th>Fumbles Lost</th>\n",
       "      <th>Current Status</th>\n",
       "      <th>GWD</th>\n",
       "    </tr>\n",
       "  </thead>\n",
       "  <tbody>\n",
       "    <tr>\n",
       "      <th>0</th>\n",
       "      <td>Warner, Kurt</td>\n",
       "      <td>124.0</td>\n",
       "      <td>2666.0</td>\n",
       "      <td>4070.0</td>\n",
       "      <td>32344.0</td>\n",
       "      <td>208.0</td>\n",
       "      <td>128.0</td>\n",
       "      <td>260.0</td>\n",
       "      <td>173.0</td>\n",
       "      <td>286.0</td>\n",
       "      <td>3.0</td>\n",
       "      <td>True</td>\n",
       "      <td>NaN</td>\n",
       "      <td>NaN</td>\n",
       "      <td>NaN</td>\n",
       "      <td>NaN</td>\n",
       "      <td>NaN</td>\n",
       "      <td>NaN</td>\n",
       "      <td>Retired</td>\n",
       "      <td>3.0</td>\n",
       "    </tr>\n",
       "    <tr>\n",
       "      <th>1</th>\n",
       "      <td>Favre, Brett</td>\n",
       "      <td>302.0</td>\n",
       "      <td>6300.0</td>\n",
       "      <td>10169.0</td>\n",
       "      <td>71838.0</td>\n",
       "      <td>508.0</td>\n",
       "      <td>336.0</td>\n",
       "      <td>525.0</td>\n",
       "      <td>602.0</td>\n",
       "      <td>1844.0</td>\n",
       "      <td>14.0</td>\n",
       "      <td>True</td>\n",
       "      <td>NaN</td>\n",
       "      <td>NaN</td>\n",
       "      <td>NaN</td>\n",
       "      <td>NaN</td>\n",
       "      <td>NaN</td>\n",
       "      <td>NaN</td>\n",
       "      <td>Retired</td>\n",
       "      <td>2.0</td>\n",
       "    </tr>\n",
       "    <tr>\n",
       "      <th>2</th>\n",
       "      <td>Stabler, Ken</td>\n",
       "      <td>184.0</td>\n",
       "      <td>2270.0</td>\n",
       "      <td>3793.0</td>\n",
       "      <td>27938.0</td>\n",
       "      <td>194.0</td>\n",
       "      <td>222.0</td>\n",
       "      <td>281.0</td>\n",
       "      <td>118.0</td>\n",
       "      <td>93.0</td>\n",
       "      <td>4.0</td>\n",
       "      <td>True</td>\n",
       "      <td>NaN</td>\n",
       "      <td>NaN</td>\n",
       "      <td>NaN</td>\n",
       "      <td>NaN</td>\n",
       "      <td>NaN</td>\n",
       "      <td>NaN</td>\n",
       "      <td>Retired</td>\n",
       "      <td>3.0</td>\n",
       "    </tr>\n",
       "    <tr>\n",
       "      <th>3</th>\n",
       "      <td>Aikman, Troy</td>\n",
       "      <td>165.0</td>\n",
       "      <td>2898.0</td>\n",
       "      <td>4715.0</td>\n",
       "      <td>32942.0</td>\n",
       "      <td>165.0</td>\n",
       "      <td>141.0</td>\n",
       "      <td>259.0</td>\n",
       "      <td>327.0</td>\n",
       "      <td>1016.0</td>\n",
       "      <td>9.0</td>\n",
       "      <td>True</td>\n",
       "      <td>NaN</td>\n",
       "      <td>NaN</td>\n",
       "      <td>NaN</td>\n",
       "      <td>NaN</td>\n",
       "      <td>NaN</td>\n",
       "      <td>NaN</td>\n",
       "      <td>Retired</td>\n",
       "      <td>1.0</td>\n",
       "    </tr>\n",
       "    <tr>\n",
       "      <th>4</th>\n",
       "      <td>Moon, Warren</td>\n",
       "      <td>208.0</td>\n",
       "      <td>3988.0</td>\n",
       "      <td>6823.0</td>\n",
       "      <td>49325.0</td>\n",
       "      <td>291.0</td>\n",
       "      <td>233.0</td>\n",
       "      <td>458.0</td>\n",
       "      <td>543.0</td>\n",
       "      <td>1736.0</td>\n",
       "      <td>22.0</td>\n",
       "      <td>True</td>\n",
       "      <td>NaN</td>\n",
       "      <td>NaN</td>\n",
       "      <td>NaN</td>\n",
       "      <td>NaN</td>\n",
       "      <td>NaN</td>\n",
       "      <td>NaN</td>\n",
       "      <td>Retired</td>\n",
       "      <td>2.0</td>\n",
       "    </tr>\n",
       "  </tbody>\n",
       "</table>\n",
       "</div>"
      ],
      "text/plain": [
       "      Player Id  Num_Games  Passes Completed  Passes Attempted  Passing Yards  \\\n",
       "0  Warner, Kurt      124.0            2666.0            4070.0        32344.0   \n",
       "1  Favre, Brett      302.0            6300.0           10169.0        71838.0   \n",
       "2  Stabler, Ken      184.0            2270.0            3793.0        27938.0   \n",
       "3  Aikman, Troy      165.0            2898.0            4715.0        32942.0   \n",
       "4  Moon, Warren      208.0            3988.0            6823.0        49325.0   \n",
       "\n",
       "   TD Passes   Ints  Sacks  Rushing Attempts  Rushing Yards  Rushing TDs  \\\n",
       "0      208.0  128.0  260.0             173.0          286.0          3.0   \n",
       "1      508.0  336.0  525.0             602.0         1844.0         14.0   \n",
       "2      194.0  222.0  281.0             118.0           93.0          4.0   \n",
       "3      165.0  141.0  259.0             327.0         1016.0          9.0   \n",
       "4      291.0  233.0  458.0             543.0         1736.0         22.0   \n",
       "\n",
       "    HoF  Completion Percentage  Passing Yards Per Attempt  Sacked Yards Lost  \\\n",
       "0  True                    NaN                        NaN                NaN   \n",
       "1  True                    NaN                        NaN                NaN   \n",
       "2  True                    NaN                        NaN                NaN   \n",
       "3  True                    NaN                        NaN                NaN   \n",
       "4  True                    NaN                        NaN                NaN   \n",
       "\n",
       "   Yards Per Carry  Fumbles  Fumbles Lost Current Status  GWD  \n",
       "0              NaN      NaN           NaN        Retired  3.0  \n",
       "1              NaN      NaN           NaN        Retired  2.0  \n",
       "2              NaN      NaN           NaN        Retired  3.0  \n",
       "3              NaN      NaN           NaN        Retired  1.0  \n",
       "4              NaN      NaN           NaN        Retired  2.0  "
      ]
     },
     "execution_count": 23,
     "metadata": {},
     "output_type": "execute_result"
    }
   ],
   "source": [
    "gwd = gwd.rename(columns={\"Player\": \"Player Id\"})\n",
    "gwd.drop([\"Rank\", \"Years\", \"Tm\", \"Link\"], axis=1, inplace=True)\n",
    "master_data[master_data['HoF'] == True]\n",
    "master_data = pd.merge(master_data, gwd, on='Player Id', how='outer')\n",
    "master_data.head()"
   ]
  },
  {
   "cell_type": "code",
   "execution_count": 24,
   "metadata": {},
   "outputs": [],
   "source": [
    "# Remove null with 5 or more null values\n",
    "#master_data = master_data.dropna(thresh=5)\n",
    "\n",
    "# Replace Nan with 0\n",
    "master_data['GWD'] = master_data['GWD'].replace(np.nan, 0)"
   ]
  },
  {
   "cell_type": "markdown",
   "metadata": {},
   "source": [
    "##  <center> Adding Superbowl Wins For All Players </center>"
   ]
  },
  {
   "cell_type": "code",
   "execution_count": 25,
   "metadata": {
    "scrolled": true
   },
   "outputs": [],
   "source": [
    "sup_wins = pd.read_excel('data/Super_Bowls.xlsx')\n",
    "sup_wins = sup_wins.rename(columns={\"Name\" : \"Player Id\", \"Wins\": \"Superbowl Wins\"})"
   ]
  },
  {
   "cell_type": "code",
   "execution_count": 26,
   "metadata": {},
   "outputs": [],
   "source": [
    "master_data = pd.merge(master_data, sup_wins, on='Player Id', how='outer')"
   ]
  },
  {
   "cell_type": "code",
   "execution_count": 27,
   "metadata": {
    "scrolled": true
   },
   "outputs": [
    {
     "data": {
      "text/html": [
       "<div>\n",
       "<style scoped>\n",
       "    .dataframe tbody tr th:only-of-type {\n",
       "        vertical-align: middle;\n",
       "    }\n",
       "\n",
       "    .dataframe tbody tr th {\n",
       "        vertical-align: top;\n",
       "    }\n",
       "\n",
       "    .dataframe thead th {\n",
       "        text-align: right;\n",
       "    }\n",
       "</style>\n",
       "<table border=\"1\" class=\"dataframe\">\n",
       "  <thead>\n",
       "    <tr style=\"text-align: right;\">\n",
       "      <th></th>\n",
       "      <th>Player Id</th>\n",
       "      <th>Num_Games</th>\n",
       "      <th>Passes Completed</th>\n",
       "      <th>Passes Attempted</th>\n",
       "      <th>Passing Yards</th>\n",
       "      <th>TD Passes</th>\n",
       "      <th>Ints</th>\n",
       "      <th>Sacks</th>\n",
       "      <th>Rushing Attempts</th>\n",
       "      <th>Rushing Yards</th>\n",
       "      <th>Rushing TDs</th>\n",
       "      <th>HoF</th>\n",
       "      <th>Current Status</th>\n",
       "      <th>GWD</th>\n",
       "      <th>Superbowl Wins</th>\n",
       "    </tr>\n",
       "  </thead>\n",
       "  <tbody>\n",
       "    <tr>\n",
       "      <th>0</th>\n",
       "      <td>Warner, Kurt</td>\n",
       "      <td>124.0</td>\n",
       "      <td>2666.0</td>\n",
       "      <td>4070.0</td>\n",
       "      <td>32344.0</td>\n",
       "      <td>208.0</td>\n",
       "      <td>128.0</td>\n",
       "      <td>260.0</td>\n",
       "      <td>173.0</td>\n",
       "      <td>286.0</td>\n",
       "      <td>3.0</td>\n",
       "      <td>True</td>\n",
       "      <td>Retired</td>\n",
       "      <td>3.0</td>\n",
       "      <td>1.0</td>\n",
       "    </tr>\n",
       "    <tr>\n",
       "      <th>1</th>\n",
       "      <td>Favre, Brett</td>\n",
       "      <td>302.0</td>\n",
       "      <td>6300.0</td>\n",
       "      <td>10169.0</td>\n",
       "      <td>71838.0</td>\n",
       "      <td>508.0</td>\n",
       "      <td>336.0</td>\n",
       "      <td>525.0</td>\n",
       "      <td>602.0</td>\n",
       "      <td>1844.0</td>\n",
       "      <td>14.0</td>\n",
       "      <td>True</td>\n",
       "      <td>Retired</td>\n",
       "      <td>2.0</td>\n",
       "      <td>1.0</td>\n",
       "    </tr>\n",
       "    <tr>\n",
       "      <th>2</th>\n",
       "      <td>Stabler, Ken</td>\n",
       "      <td>184.0</td>\n",
       "      <td>2270.0</td>\n",
       "      <td>3793.0</td>\n",
       "      <td>27938.0</td>\n",
       "      <td>194.0</td>\n",
       "      <td>222.0</td>\n",
       "      <td>281.0</td>\n",
       "      <td>118.0</td>\n",
       "      <td>93.0</td>\n",
       "      <td>4.0</td>\n",
       "      <td>True</td>\n",
       "      <td>Retired</td>\n",
       "      <td>3.0</td>\n",
       "      <td>1.0</td>\n",
       "    </tr>\n",
       "    <tr>\n",
       "      <th>3</th>\n",
       "      <td>Aikman, Troy</td>\n",
       "      <td>165.0</td>\n",
       "      <td>2898.0</td>\n",
       "      <td>4715.0</td>\n",
       "      <td>32942.0</td>\n",
       "      <td>165.0</td>\n",
       "      <td>141.0</td>\n",
       "      <td>259.0</td>\n",
       "      <td>327.0</td>\n",
       "      <td>1016.0</td>\n",
       "      <td>9.0</td>\n",
       "      <td>True</td>\n",
       "      <td>Retired</td>\n",
       "      <td>1.0</td>\n",
       "      <td>3.0</td>\n",
       "    </tr>\n",
       "    <tr>\n",
       "      <th>4</th>\n",
       "      <td>Moon, Warren</td>\n",
       "      <td>208.0</td>\n",
       "      <td>3988.0</td>\n",
       "      <td>6823.0</td>\n",
       "      <td>49325.0</td>\n",
       "      <td>291.0</td>\n",
       "      <td>233.0</td>\n",
       "      <td>458.0</td>\n",
       "      <td>543.0</td>\n",
       "      <td>1736.0</td>\n",
       "      <td>22.0</td>\n",
       "      <td>True</td>\n",
       "      <td>Retired</td>\n",
       "      <td>2.0</td>\n",
       "      <td>0.0</td>\n",
       "    </tr>\n",
       "  </tbody>\n",
       "</table>\n",
       "</div>"
      ],
      "text/plain": [
       "      Player Id  Num_Games  Passes Completed  Passes Attempted  Passing Yards  \\\n",
       "0  Warner, Kurt      124.0            2666.0            4070.0        32344.0   \n",
       "1  Favre, Brett      302.0            6300.0           10169.0        71838.0   \n",
       "2  Stabler, Ken      184.0            2270.0            3793.0        27938.0   \n",
       "3  Aikman, Troy      165.0            2898.0            4715.0        32942.0   \n",
       "4  Moon, Warren      208.0            3988.0            6823.0        49325.0   \n",
       "\n",
       "   TD Passes   Ints  Sacks  Rushing Attempts  Rushing Yards  Rushing TDs  \\\n",
       "0      208.0  128.0  260.0             173.0          286.0          3.0   \n",
       "1      508.0  336.0  525.0             602.0         1844.0         14.0   \n",
       "2      194.0  222.0  281.0             118.0           93.0          4.0   \n",
       "3      165.0  141.0  259.0             327.0         1016.0          9.0   \n",
       "4      291.0  233.0  458.0             543.0         1736.0         22.0   \n",
       "\n",
       "    HoF Current Status  GWD  Superbowl Wins  \n",
       "0  True        Retired  3.0             1.0  \n",
       "1  True        Retired  2.0             1.0  \n",
       "2  True        Retired  3.0             1.0  \n",
       "3  True        Retired  1.0             3.0  \n",
       "4  True        Retired  2.0             0.0  "
      ]
     },
     "execution_count": 27,
     "metadata": {},
     "output_type": "execute_result"
    }
   ],
   "source": [
    "master_data.drop([\"Completion Percentage\", \"Passing Yards Per Attempt\", \"Fumbles\", \"Fumbles Lost\", \"Sacked Yards Lost\", \"Yards Per Carry\"], axis=1, inplace=True)\n",
    "master_data['Superbowl Wins'] = master_data['Superbowl Wins'].replace(np.nan, 0)\n",
    "master_data.dropna(inplace=True)\n",
    "master_data.head()"
   ]
  },
  {
   "cell_type": "markdown",
   "metadata": {},
   "source": [
    "# <center> Graphing and Analyzing the Data </center>"
   ]
  },
  {
   "cell_type": "markdown",
   "metadata": {},
   "source": [
    "## <center> Interceptions vs Touchdown Passes </center>"
   ]
  },
  {
   "cell_type": "code",
   "execution_count": 28,
   "metadata": {},
   "outputs": [],
   "source": [
    "retired = master_data[master_data[\"Current Status\"] == \"Retired\"].copy()"
   ]
  },
  {
   "cell_type": "code",
   "execution_count": 29,
   "metadata": {},
   "outputs": [
    {
     "data": {
      "text/plain": [
       "[Text(0, 0.5, 'Interceptions'),\n",
       " Text(0.5, 0, 'Touchdown Passes'),\n",
       " Text(0.5, 1.0, 'Standard Deviation of Interceptions vs Touchdown Passes')]"
      ]
     },
     "execution_count": 29,
     "metadata": {},
     "output_type": "execute_result"
    },
    {
     "data": {
      "image/png": "[encoded data removed]",
      "text/plain": [
       "<Figure size 960x960 with 1 Axes>"
      ]
     },
     "metadata": {
      "needs_background": "light"
     },
     "output_type": "display_data"
    }
   ],
   "source": [
    "plt.figure(figsize=(12, 12), dpi=80)\n",
    "plt.ylim(-1, 4)\n",
    "plt.xlim(-1, 4)\n",
    "\n",
    "retired['TD Passes'] = (retired[\"TD Passes\"] - np.mean(retired[\"TD Passes\"])) / np.std(retired[\"TD Passes\"])\n",
    "retired['Ints'] = (retired[\"Ints\"] - np.mean(retired[\"Ints\"])) / np.std(retired[\"Ints\"])\n",
    "\n",
    "ax = sns.scatterplot(x=\"TD Passes\", y=\"Ints\", data=retired, hue=\"HoF\")\n",
    "ax.set(\n",
    "        xlabel='Touchdown Passes',\n",
    "        ylabel='Interceptions',\n",
    "        title='Standard Deviation of Interceptions vs Touchdown Passes')"
   ]
  },
  {
   "cell_type": "markdown",
   "metadata": {},
   "source": [
    "## <center> Passing Yards vs Touchdown Passes </center>"
   ]
  },
  {
   "cell_type": "code",
   "execution_count": 30,
   "metadata": {},
   "outputs": [],
   "source": [
    "retired = master_data[master_data[\"Current Status\"] == \"Retired\"].copy()"
   ]
  },
  {
   "cell_type": "code",
   "execution_count": 31,
   "metadata": {},
   "outputs": [
    {
     "data": {
      "text/plain": [
       "[Text(0, 0.5, 'Passing Yards per Game'),\n",
       " Text(0.5, 0, 'Touchdown Passes per Game'),\n",
       " Text(0.5, 1.0, 'Passing Yards per Game vs Touchdown Passes per Game')]"
      ]
     },
     "execution_count": 31,
     "metadata": {},
     "output_type": "execute_result"
    },
    {
     "data": {
      "image/png": "[encoded data removed]",
      "text/plain": [
       "<Figure size 960x960 with 1 Axes>"
      ]
     },
     "metadata": {
      "needs_background": "light"
     },
     "output_type": "display_data"
    }
   ],
   "source": [
    "plt.figure(figsize=(12, 12), dpi=80)\n",
    "\n",
    "retired['TD Passes'] = retired['TD Passes'] / retired['Num_Games']\n",
    "retired['Passing Yards'] = retired['Passing Yards'] / retired['Num_Games']\n",
    "\n",
    "ax = sns.scatterplot(x=\"TD Passes\", y=\"Passing Yards\", data=retired, hue=\"HoF\")\n",
    "ax.set(\n",
    "        xlabel='Touchdown Passes per Game',\n",
    "        ylabel='Passing Yards per Game',\n",
    "        title='Passing Yards per Game vs Touchdown Passes per Game')"
   ]
  },
  {
   "cell_type": "markdown",
   "metadata": {},
   "source": [
    "## <center> Understanding Game Winning Drives </center>"
   ]
  },
  {
   "cell_type": "code",
   "execution_count": 32,
   "metadata": {},
   "outputs": [],
   "source": [
    "retired = master_data[master_data[\"Current Status\"] == \"Retired\"].copy()"
   ]
  },
  {
   "cell_type": "code",
   "execution_count": 33,
   "metadata": {},
   "outputs": [
    {
     "data": {
      "text/plain": [
       "[Text(0, 0.5, 'Number of QBs'),\n",
       " Text(0.5, 0, 'Game Winning Drives'),\n",
       " Text(0.5, 1.0, 'Number of QBs vs Game Winning Drives')]"
      ]
     },
     "execution_count": 33,
     "metadata": {},
     "output_type": "execute_result"
    },
    {
     "data": {
      "image/png": "[encoded data removed]",
      "text/plain": [
       "<Figure size 960x960 with 1 Axes>"
      ]
     },
     "metadata": {
      "needs_background": "light"
     },
     "output_type": "display_data"
    }
   ],
   "source": [
    "plt.figure(figsize=(12, 12), dpi=80)\n",
    "plt.ylim(0, 100)\n",
    "# plt.xlim(-1, 4)\n",
    "\n",
    "ax = sns.countplot(x=\"GWD\", data=retired, hue=\"HoF\")\n",
    "ax.set(\n",
    "        xlabel='Game Winning Drives',\n",
    "        ylabel='Number of QBs',\n",
    "        title='Number of QBs vs Game Winning Drives')"
   ]
  },
  {
   "cell_type": "markdown",
   "metadata": {},
   "source": [
    "## <center> Passes Incomplete vs Sacks </center>"
   ]
  },
  {
   "cell_type": "code",
   "execution_count": 34,
   "metadata": {},
   "outputs": [
    {
     "data": {
      "text/plain": [
       "[Text(0, 0.5, 'Passes Incomplete'),\n",
       " Text(0.5, 0, 'Sacks'),\n",
       " Text(0.5, 1.0, 'Passes Incomplete vs Sacks')]"
      ]
     },
     "execution_count": 34,
     "metadata": {},
     "output_type": "execute_result"
    },
    {
     "data": {
      "image/png": "[encoded data removed]",
      "text/plain": [
       "<Figure size 960x960 with 1 Axes>"
      ]
     },
     "metadata": {
      "needs_background": "light"
     },
     "output_type": "display_data"
    }
   ],
   "source": [
    "plt.figure(figsize=(12, 12), dpi=80)\n",
    "\n",
    "retired['Passes Incomplete'] = retired['Passes Attempted'] - retired['Passes Completed']\n",
    "\n",
    "ax = sns.scatterplot(x=\"Passes Incomplete\", y='Sacks', data=retired, hue=\"HoF\")\n",
    "ax.set(\n",
    "        xlabel='Sacks',\n",
    "        ylabel='Passes Incomplete',\n",
    "        title='Passes Incomplete vs Sacks')"
   ]
  },
  {
   "cell_type": "markdown",
   "metadata": {},
   "source": [
    "## <center> Superbowl Wins </center>"
   ]
  },
  {
   "cell_type": "code",
   "execution_count": 35,
   "metadata": {},
   "outputs": [
    {
     "data": {
      "text/plain": [
       "[Text(0, 0.5, 'Number of QBs'),\n",
       " Text(0.5, 0, 'Superbowl Wins'),\n",
       " Text(0.5, 1.0, 'Number of QBs vs Superbowl Wins')]"
      ]
     },
     "execution_count": 35,
     "metadata": {},
     "output_type": "execute_result"
    },
    {
     "data": {
      "image/png": "[encoded data removed]",
      "text/plain": [
       "<Figure size 960x960 with 1 Axes>"
      ]
     },
     "metadata": {
      "needs_background": "light"
     },
     "output_type": "display_data"
    }
   ],
   "source": [
    "plt.figure(figsize=(12, 12), dpi=80)\n",
    "plt.ylim(0, 100)\n",
    "\n",
    "ax = sns.countplot(x=\"Superbowl Wins\", data=retired, hue=\"HoF\")\n",
    "ax.set(\n",
    "        xlabel='Superbowl Wins',\n",
    "        ylabel='Number of QBs',\n",
    "        title='Number of QBs vs Superbowl Wins')"
   ]
  },
  {
   "cell_type": "markdown",
   "metadata": {},
   "source": [
    "## <center> Passing Yards vs Touchdown Passes </center>"
   ]
  },
  {
   "cell_type": "code",
   "execution_count": 36,
   "metadata": {},
   "outputs": [
    {
     "data": {
      "text/plain": [
       "[Text(0, 0.5, 'Number of QBs'),\n",
       " Text(0.5, 0, 'Rushing TDs'),\n",
       " Text(0.5, 1.0, 'Total Passing Yards vs Total Touchdown Passes')]"
      ]
     },
     "execution_count": 36,
     "metadata": {},
     "output_type": "execute_result"
    },
    {
     "data": {
      "image/png": "[encoded data removed]",
      "text/plain": [
       "<Figure size 960x960 with 1 Axes>"
      ]
     },
     "metadata": {
      "needs_background": "light"
     },
     "output_type": "display_data"
    }
   ],
   "source": [
    "plt.figure(figsize=(12, 12), dpi=80)\n",
    "\n",
    "ax = sns.countplot(x=\"Rushing TDs\", data=retired, hue=\"HoF\")\n",
    "ax.set(\n",
    "        xlabel='Rushing TDs',\n",
    "        ylabel='Number of QBs',\n",
    "        title='Total Passing Yards vs Total Touchdown Passes')"
   ]
  },
  {
   "cell_type": "markdown",
   "metadata": {},
   "source": [
    "# <center> Machine Learning </center>"
   ]
  },
  {
   "cell_type": "markdown",
   "metadata": {},
   "source": [
    "## <center> SVM Using Multiple Features </center>"
   ]
  },
  {
   "cell_type": "markdown",
   "metadata": {},
   "source": [
    "Our first objective was to use multiple features in the dataframe in order to see if there was general correlation between many of the recorded data points and whether or not a player was in the Hall of Fame. After looking at the graphs above, you can see general trends where members in the Hall of Fame have higher game winning drives, superbowl wins, and touchdown passes per game. Many people believe that these features are what determine hall of famers, so we decided to see if we could find this same theory using an SVM."
   ]
  },
  {
   "cell_type": "code",
   "execution_count": 37,
   "metadata": {},
   "outputs": [
    {
     "data": {
      "text/html": [
       "<div>\n",
       "<style scoped>\n",
       "    .dataframe tbody tr th:only-of-type {\n",
       "        vertical-align: middle;\n",
       "    }\n",
       "\n",
       "    .dataframe tbody tr th {\n",
       "        vertical-align: top;\n",
       "    }\n",
       "\n",
       "    .dataframe thead th {\n",
       "        text-align: right;\n",
       "    }\n",
       "</style>\n",
       "<table border=\"1\" class=\"dataframe\">\n",
       "  <thead>\n",
       "    <tr style=\"text-align: right;\">\n",
       "      <th></th>\n",
       "      <th>Player Id</th>\n",
       "      <th>Num_Games</th>\n",
       "      <th>Passes Completed</th>\n",
       "      <th>Passes Attempted</th>\n",
       "      <th>Passing Yards</th>\n",
       "      <th>TD Passes</th>\n",
       "      <th>Ints</th>\n",
       "      <th>Sacks</th>\n",
       "      <th>Rushing Attempts</th>\n",
       "      <th>Rushing Yards</th>\n",
       "      <th>Rushing TDs</th>\n",
       "      <th>HoF</th>\n",
       "      <th>Current Status</th>\n",
       "      <th>GWD</th>\n",
       "      <th>Superbowl Wins</th>\n",
       "    </tr>\n",
       "  </thead>\n",
       "  <tbody>\n",
       "    <tr>\n",
       "      <th>0</th>\n",
       "      <td>Warner, Kurt</td>\n",
       "      <td>124.0</td>\n",
       "      <td>2666.0</td>\n",
       "      <td>4070.0</td>\n",
       "      <td>32344.0</td>\n",
       "      <td>208.0</td>\n",
       "      <td>128.0</td>\n",
       "      <td>260.0</td>\n",
       "      <td>173.0</td>\n",
       "      <td>286.0</td>\n",
       "      <td>3.0</td>\n",
       "      <td>1</td>\n",
       "      <td>Retired</td>\n",
       "      <td>3.0</td>\n",
       "      <td>1.0</td>\n",
       "    </tr>\n",
       "    <tr>\n",
       "      <th>1</th>\n",
       "      <td>Favre, Brett</td>\n",
       "      <td>302.0</td>\n",
       "      <td>6300.0</td>\n",
       "      <td>10169.0</td>\n",
       "      <td>71838.0</td>\n",
       "      <td>508.0</td>\n",
       "      <td>336.0</td>\n",
       "      <td>525.0</td>\n",
       "      <td>602.0</td>\n",
       "      <td>1844.0</td>\n",
       "      <td>14.0</td>\n",
       "      <td>1</td>\n",
       "      <td>Retired</td>\n",
       "      <td>2.0</td>\n",
       "      <td>1.0</td>\n",
       "    </tr>\n",
       "    <tr>\n",
       "      <th>2</th>\n",
       "      <td>Stabler, Ken</td>\n",
       "      <td>184.0</td>\n",
       "      <td>2270.0</td>\n",
       "      <td>3793.0</td>\n",
       "      <td>27938.0</td>\n",
       "      <td>194.0</td>\n",
       "      <td>222.0</td>\n",
       "      <td>281.0</td>\n",
       "      <td>118.0</td>\n",
       "      <td>93.0</td>\n",
       "      <td>4.0</td>\n",
       "      <td>1</td>\n",
       "      <td>Retired</td>\n",
       "      <td>3.0</td>\n",
       "      <td>1.0</td>\n",
       "    </tr>\n",
       "    <tr>\n",
       "      <th>3</th>\n",
       "      <td>Aikman, Troy</td>\n",
       "      <td>165.0</td>\n",
       "      <td>2898.0</td>\n",
       "      <td>4715.0</td>\n",
       "      <td>32942.0</td>\n",
       "      <td>165.0</td>\n",
       "      <td>141.0</td>\n",
       "      <td>259.0</td>\n",
       "      <td>327.0</td>\n",
       "      <td>1016.0</td>\n",
       "      <td>9.0</td>\n",
       "      <td>1</td>\n",
       "      <td>Retired</td>\n",
       "      <td>1.0</td>\n",
       "      <td>3.0</td>\n",
       "    </tr>\n",
       "    <tr>\n",
       "      <th>4</th>\n",
       "      <td>Moon, Warren</td>\n",
       "      <td>208.0</td>\n",
       "      <td>3988.0</td>\n",
       "      <td>6823.0</td>\n",
       "      <td>49325.0</td>\n",
       "      <td>291.0</td>\n",
       "      <td>233.0</td>\n",
       "      <td>458.0</td>\n",
       "      <td>543.0</td>\n",
       "      <td>1736.0</td>\n",
       "      <td>22.0</td>\n",
       "      <td>1</td>\n",
       "      <td>Retired</td>\n",
       "      <td>2.0</td>\n",
       "      <td>0.0</td>\n",
       "    </tr>\n",
       "  </tbody>\n",
       "</table>\n",
       "</div>"
      ],
      "text/plain": [
       "      Player Id  Num_Games  Passes Completed  Passes Attempted  Passing Yards  \\\n",
       "0  Warner, Kurt      124.0            2666.0            4070.0        32344.0   \n",
       "1  Favre, Brett      302.0            6300.0           10169.0        71838.0   \n",
       "2  Stabler, Ken      184.0            2270.0            3793.0        27938.0   \n",
       "3  Aikman, Troy      165.0            2898.0            4715.0        32942.0   \n",
       "4  Moon, Warren      208.0            3988.0            6823.0        49325.0   \n",
       "\n",
       "   TD Passes   Ints  Sacks  Rushing Attempts  Rushing Yards  Rushing TDs  HoF  \\\n",
       "0      208.0  128.0  260.0             173.0          286.0          3.0    1   \n",
       "1      508.0  336.0  525.0             602.0         1844.0         14.0    1   \n",
       "2      194.0  222.0  281.0             118.0           93.0          4.0    1   \n",
       "3      165.0  141.0  259.0             327.0         1016.0          9.0    1   \n",
       "4      291.0  233.0  458.0             543.0         1736.0         22.0    1   \n",
       "\n",
       "  Current Status  GWD  Superbowl Wins  \n",
       "0        Retired  3.0             1.0  \n",
       "1        Retired  2.0             1.0  \n",
       "2        Retired  3.0             1.0  \n",
       "3        Retired  1.0             3.0  \n",
       "4        Retired  2.0             0.0  "
      ]
     },
     "execution_count": 37,
     "metadata": {},
     "output_type": "execute_result"
    }
   ],
   "source": [
    "retired = master_data[master_data[\"Current Status\"] == \"Retired\"].copy()\n",
    "retired['HoF'] = retired['HoF'].apply(lambda x: 0 if not x else 1)\n",
    "retired.dropna(inplace=True)\n",
    "retired.head()"
   ]
  },
  {
   "cell_type": "code",
   "execution_count": 38,
   "metadata": {},
   "outputs": [],
   "source": [
    "X = retired.drop([\"Player Id\", \"Current Status\", \"HoF\"], axis=1)\n",
    "y = retired['HoF']\n",
    "X_train, X_test, y_train, y_test = train_test_split(X, y, test_size=0.33, random_state=42)\n",
    "clf = svm.SVC(gamma='auto').fit(X_train, y_train)"
   ]
  },
  {
   "cell_type": "code",
   "execution_count": 39,
   "metadata": {},
   "outputs": [
    {
     "name": "stdout",
     "output_type": "stream",
     "text": [
      "The SVM model was able to guess 52.38095238095239% of the hall of famers correctly\n",
      "and the set as a whole 92.1875% correctly\n"
     ]
    }
   ],
   "source": [
    "test = retired[retired['HoF'] == 1]\n",
    "test = test.drop([\"Player Id\", \"Current Status\", \"HoF\"], axis=1)\n",
    "svm_outcome = clf.predict(test)\n",
    "print('The SVM model was able to guess ' + str(np.mean(svm_outcome) * 100) + '% of the hall of famers correctly')\n",
    "print('and the set as a whole ' + str(clf.score(X_test, y_test) * 100) + '% correctly')"
   ]
  },
  {
   "cell_type": "markdown",
   "metadata": {},
   "source": [
    "Here we can see that the SVM using all of the features was not able to predict the members of the Hall of Fame very well. Although it was able to predict fairly well on the entire set, that is to be expected as only about 4% of the dataset we used are part of the hall of fame. This helps us understand that using all of these statistics actually hurts our case and inhibits us from producing desired results when using a support vector machine. In order to get better and more accurate results, we decided our next courses of action would be using feature selection to choose features which showed more promise towards displaying correlation and using other forms of machine learning, specifically logistic regression."
   ]
  },
  {
   "cell_type": "markdown",
   "metadata": {},
   "source": [
    "## <center> SVM Using Superbowl Wins, GWD, and TD Passes Per Game </center>"
   ]
  },
  {
   "cell_type": "code",
   "execution_count": 40,
   "metadata": {},
   "outputs": [
    {
     "data": {
      "text/html": [
       "<div>\n",
       "<style scoped>\n",
       "    .dataframe tbody tr th:only-of-type {\n",
       "        vertical-align: middle;\n",
       "    }\n",
       "\n",
       "    .dataframe tbody tr th {\n",
       "        vertical-align: top;\n",
       "    }\n",
       "\n",
       "    .dataframe thead th {\n",
       "        text-align: right;\n",
       "    }\n",
       "</style>\n",
       "<table border=\"1\" class=\"dataframe\">\n",
       "  <thead>\n",
       "    <tr style=\"text-align: right;\">\n",
       "      <th></th>\n",
       "      <th>HoF</th>\n",
       "      <th>Superbowl Wins</th>\n",
       "      <th>GWD</th>\n",
       "      <th>TD Passes</th>\n",
       "    </tr>\n",
       "  </thead>\n",
       "  <tbody>\n",
       "    <tr>\n",
       "      <th>0</th>\n",
       "      <td>1</td>\n",
       "      <td>1.0</td>\n",
       "      <td>3.0</td>\n",
       "      <td>1.677419</td>\n",
       "    </tr>\n",
       "    <tr>\n",
       "      <th>1</th>\n",
       "      <td>1</td>\n",
       "      <td>1.0</td>\n",
       "      <td>2.0</td>\n",
       "      <td>1.682119</td>\n",
       "    </tr>\n",
       "    <tr>\n",
       "      <th>2</th>\n",
       "      <td>1</td>\n",
       "      <td>1.0</td>\n",
       "      <td>3.0</td>\n",
       "      <td>1.054348</td>\n",
       "    </tr>\n",
       "    <tr>\n",
       "      <th>3</th>\n",
       "      <td>1</td>\n",
       "      <td>3.0</td>\n",
       "      <td>1.0</td>\n",
       "      <td>1.000000</td>\n",
       "    </tr>\n",
       "    <tr>\n",
       "      <th>4</th>\n",
       "      <td>1</td>\n",
       "      <td>0.0</td>\n",
       "      <td>2.0</td>\n",
       "      <td>1.399038</td>\n",
       "    </tr>\n",
       "  </tbody>\n",
       "</table>\n",
       "</div>"
      ],
      "text/plain": [
       "   HoF  Superbowl Wins  GWD  TD Passes\n",
       "0    1             1.0  3.0   1.677419\n",
       "1    1             1.0  2.0   1.682119\n",
       "2    1             1.0  3.0   1.054348\n",
       "3    1             3.0  1.0   1.000000\n",
       "4    1             0.0  2.0   1.399038"
      ]
     },
     "execution_count": 40,
     "metadata": {},
     "output_type": "execute_result"
    }
   ],
   "source": [
    "filtered_data = retired[['HoF', 'Superbowl Wins', 'GWD']]\n",
    "filtered_data['TD Passes'] = retired['TD Passes'] / retired['Num_Games']\n",
    "filtered_data.head()"
   ]
  },
  {
   "cell_type": "code",
   "execution_count": 41,
   "metadata": {},
   "outputs": [],
   "source": [
    "X = filtered_data.drop([\"HoF\"], axis=1)\n",
    "y = filtered_data['HoF']\n",
    "X_train, X_test, y_train, y_test = train_test_split(X, y, test_size=0.33, random_state=42)\n",
    "clf = svm.SVC(gamma='auto').fit(X_train, y_train)"
   ]
  },
  {
   "cell_type": "code",
   "execution_count": 42,
   "metadata": {},
   "outputs": [
    {
     "name": "stdout",
     "output_type": "stream",
     "text": [
      "The SVM model was able to guess 98.4375% of the player's Hall of Fame status correctly\n"
     ]
    }
   ],
   "source": [
    "print('The SVM model was able to guess ' + str(clf.score(X_test, y_test) * 100) + '% of the player\\'s Hall of Fame status correctly')"
   ]
  },
  {
   "cell_type": "code",
   "execution_count": 43,
   "metadata": {},
   "outputs": [
    {
     "name": "stdout",
     "output_type": "stream",
     "text": [
      "[1 1 1 1 1 1 1 1 0 1 1 1 1 1 0 1 1 0 0 1 1]\n",
      "[1 1 1 1 1 1 1 1 1 1 1 1 1 1 1 1 1 1 1 1 1]\n",
      "\n",
      "When testing on only the Hall of Fame candidates, the SVM was able to get 80.95238095238095% of them correct\n"
     ]
    }
   ],
   "source": [
    "test = filtered_data[filtered_data['HoF'] == 1]\n",
    "test = test.drop('HoF', axis=1)\n",
    "outcome = clf.predict(test)\n",
    "\n",
    "correct = str(len(outcome[np.where(outcome == 1)]) / len(outcome) * 100)\n",
    "print(outcome)\n",
    "print(np.array(filtered_data[filtered_data['HoF'] == 1]['HoF']))\n",
    "print()\n",
    "print('When testing on only the Hall of Fame candidates, the SVM was able to get ' + correct + '% of them correct')"
   ]
  },
  {
   "cell_type": "markdown",
   "metadata": {},
   "source": [
    "After only using Superbowl wins, game winning drives, and touchdown passes to determine Hall of Fame candidacy, we saw a significant increase in accuracy while using an SVM. Although the accuracy was not as high as using the logistic regression above, we can see that using feature selection in a correct manner can be an important factor when using machine learning on your dataset."
   ]
  },
  {
   "cell_type": "markdown",
   "metadata": {},
   "source": [
    "# <center> Utilizing the NFL Quarterback Rating (QBR) </center>"
   ]
  },
  {
   "cell_type": "markdown",
   "metadata": {},
   "source": [
    "## <center> Adding and Graphing QBR </center>"
   ]
  },
  {
   "cell_type": "code",
   "execution_count": 44,
   "metadata": {},
   "outputs": [],
   "source": [
    "def clamp(x, min_n, max_n):\n",
    "    return min(max(x, min_n), max_n)\n",
    "\n",
    "def QBR (att, comp, yds,td, inter):\n",
    "    first = clamp((((comp / att) - 0.3) * 5), min_n=0, max_n=2.375)\n",
    "    second = clamp((((yds / att) - 3) * 0.25), min_n=0, max_n=2.375) \n",
    "    third = clamp(((td / att) * 20), min_n=0, max_n=2.375)\n",
    "    fourth = clamp((2.375 - ((inter / att) * 25))  , min_n=0, max_n=2.375)\n",
    " \n",
    "    return round(((first + second + third + fourth) / 6) * 100, 1)"
   ]
  },
  {
   "cell_type": "code",
   "execution_count": 45,
   "metadata": {},
   "outputs": [],
   "source": [
    "def get_ratings(data):\n",
    "    ratings = []\n",
    "    for index, row in data.iterrows():\n",
    "        ratings.append(int(QBR(row['Passes Attempted'], row['Passes Completed'], row['Passing Yards'], row['TD Passes'], row['Ints'])))\n",
    "    \n",
    "    return ratings"
   ]
  },
  {
   "cell_type": "code",
   "execution_count": 46,
   "metadata": {},
   "outputs": [],
   "source": [
    "retired = master_data[(master_data[\"Current Status\"] == \"Retired\") & (master_data[\"Passing Yards\"] > 1000)].copy()\n",
    "rating = get_ratings(retired)"
   ]
  },
  {
   "cell_type": "code",
   "execution_count": 47,
   "metadata": {
    "scrolled": true
   },
   "outputs": [
    {
     "data": {
      "text/html": [
       "<div>\n",
       "<style scoped>\n",
       "    .dataframe tbody tr th:only-of-type {\n",
       "        vertical-align: middle;\n",
       "    }\n",
       "\n",
       "    .dataframe tbody tr th {\n",
       "        vertical-align: top;\n",
       "    }\n",
       "\n",
       "    .dataframe thead th {\n",
       "        text-align: right;\n",
       "    }\n",
       "</style>\n",
       "<table border=\"1\" class=\"dataframe\">\n",
       "  <thead>\n",
       "    <tr style=\"text-align: right;\">\n",
       "      <th></th>\n",
       "      <th>HoF</th>\n",
       "      <th>Superbowl Wins</th>\n",
       "      <th>GWD</th>\n",
       "      <th>qbr</th>\n",
       "      <th>TD Passes</th>\n",
       "      <th>Num_Games</th>\n",
       "    </tr>\n",
       "  </thead>\n",
       "  <tbody>\n",
       "    <tr>\n",
       "      <th>0</th>\n",
       "      <td>1</td>\n",
       "      <td>1.0</td>\n",
       "      <td>3.0</td>\n",
       "      <td>93</td>\n",
       "      <td>208.0</td>\n",
       "      <td>124.0</td>\n",
       "    </tr>\n",
       "    <tr>\n",
       "      <th>1</th>\n",
       "      <td>1</td>\n",
       "      <td>1.0</td>\n",
       "      <td>2.0</td>\n",
       "      <td>86</td>\n",
       "      <td>508.0</td>\n",
       "      <td>302.0</td>\n",
       "    </tr>\n",
       "    <tr>\n",
       "      <th>2</th>\n",
       "      <td>1</td>\n",
       "      <td>1.0</td>\n",
       "      <td>3.0</td>\n",
       "      <td>75</td>\n",
       "      <td>194.0</td>\n",
       "      <td>184.0</td>\n",
       "    </tr>\n",
       "    <tr>\n",
       "      <th>3</th>\n",
       "      <td>1</td>\n",
       "      <td>3.0</td>\n",
       "      <td>1.0</td>\n",
       "      <td>81</td>\n",
       "      <td>165.0</td>\n",
       "      <td>165.0</td>\n",
       "    </tr>\n",
       "    <tr>\n",
       "      <th>4</th>\n",
       "      <td>1</td>\n",
       "      <td>0.0</td>\n",
       "      <td>2.0</td>\n",
       "      <td>80</td>\n",
       "      <td>291.0</td>\n",
       "      <td>208.0</td>\n",
       "    </tr>\n",
       "  </tbody>\n",
       "</table>\n",
       "</div>"
      ],
      "text/plain": [
       "   HoF  Superbowl Wins  GWD  qbr  TD Passes  Num_Games\n",
       "0    1             1.0  3.0   93      208.0      124.0\n",
       "1    1             1.0  2.0   86      508.0      302.0\n",
       "2    1             1.0  3.0   75      194.0      184.0\n",
       "3    1             3.0  1.0   81      165.0      165.0\n",
       "4    1             0.0  2.0   80      291.0      208.0"
      ]
     },
     "execution_count": 47,
     "metadata": {},
     "output_type": "execute_result"
    }
   ],
   "source": [
    "retired['qbr'] = rating\n",
    "retired['HoF'] = retired['HoF'].apply(lambda x: 0 if not x else 1)\n",
    "filtered_data = retired[['HoF', 'Superbowl Wins', 'GWD', 'qbr', 'TD Passes', 'Num_Games']]\n",
    "filtered_data.head()"
   ]
  },
  {
   "cell_type": "code",
   "execution_count": 48,
   "metadata": {
    "scrolled": false
   },
   "outputs": [
    {
     "data": {
      "text/plain": [
       "[Text(0.5, 0, 'Touchdown Passes'),\n",
       " Text(0.5, 1.0, 'Passing Yards vs Touchdown Passes')]"
      ]
     },
     "execution_count": 48,
     "metadata": {},
     "output_type": "execute_result"
    },
    {
     "data": {
      "image/png": "[encoded data removed]",
      "text/plain": [
       "<Figure size 960x960 with 1 Axes>"
      ]
     },
     "metadata": {
      "needs_background": "light"
     },
     "output_type": "display_data"
    }
   ],
   "source": [
    "plt.figure(figsize=(12, 12), dpi=80)\n",
    "\n",
    "ax = sns.countplot(x=\"qbr\", data=retired, hue=\"HoF\")\n",
    "ax.set(\n",
    "        xlabel='Touchdown Passes',\n",
    "        title='Passing Yards vs Touchdown Passes')"
   ]
  },
  {
   "cell_type": "markdown",
   "metadata": {},
   "source": [
    "# Retraining the Model with QBR"
   ]
  },
  {
   "cell_type": "code",
   "execution_count": 49,
   "metadata": {},
   "outputs": [
    {
     "data": {
      "text/html": [
       "<div>\n",
       "<style scoped>\n",
       "    .dataframe tbody tr th:only-of-type {\n",
       "        vertical-align: middle;\n",
       "    }\n",
       "\n",
       "    .dataframe tbody tr th {\n",
       "        vertical-align: top;\n",
       "    }\n",
       "\n",
       "    .dataframe thead th {\n",
       "        text-align: right;\n",
       "    }\n",
       "</style>\n",
       "<table border=\"1\" class=\"dataframe\">\n",
       "  <thead>\n",
       "    <tr style=\"text-align: right;\">\n",
       "      <th></th>\n",
       "      <th>HoF</th>\n",
       "      <th>Superbowl Wins</th>\n",
       "      <th>GWD</th>\n",
       "      <th>TD Passes</th>\n",
       "      <th>qbr</th>\n",
       "    </tr>\n",
       "  </thead>\n",
       "  <tbody>\n",
       "    <tr>\n",
       "      <th>0</th>\n",
       "      <td>1</td>\n",
       "      <td>1.0</td>\n",
       "      <td>3.0</td>\n",
       "      <td>1.677419</td>\n",
       "      <td>93</td>\n",
       "    </tr>\n",
       "    <tr>\n",
       "      <th>1</th>\n",
       "      <td>1</td>\n",
       "      <td>1.0</td>\n",
       "      <td>2.0</td>\n",
       "      <td>1.682119</td>\n",
       "      <td>86</td>\n",
       "    </tr>\n",
       "    <tr>\n",
       "      <th>2</th>\n",
       "      <td>1</td>\n",
       "      <td>1.0</td>\n",
       "      <td>3.0</td>\n",
       "      <td>1.054348</td>\n",
       "      <td>75</td>\n",
       "    </tr>\n",
       "    <tr>\n",
       "      <th>3</th>\n",
       "      <td>1</td>\n",
       "      <td>3.0</td>\n",
       "      <td>1.0</td>\n",
       "      <td>1.000000</td>\n",
       "      <td>81</td>\n",
       "    </tr>\n",
       "    <tr>\n",
       "      <th>4</th>\n",
       "      <td>1</td>\n",
       "      <td>0.0</td>\n",
       "      <td>2.0</td>\n",
       "      <td>1.399038</td>\n",
       "      <td>80</td>\n",
       "    </tr>\n",
       "  </tbody>\n",
       "</table>\n",
       "</div>"
      ],
      "text/plain": [
       "   HoF  Superbowl Wins  GWD  TD Passes  qbr\n",
       "0    1             1.0  3.0   1.677419   93\n",
       "1    1             1.0  2.0   1.682119   86\n",
       "2    1             1.0  3.0   1.054348   75\n",
       "3    1             3.0  1.0   1.000000   81\n",
       "4    1             0.0  2.0   1.399038   80"
      ]
     },
     "execution_count": 49,
     "metadata": {},
     "output_type": "execute_result"
    }
   ],
   "source": [
    "retired = master_data[(master_data[\"Current Status\"] == \"Retired\") & (master_data[\"Passing Yards\"] > 1000)].copy()\n",
    "retired = retired[['HoF', 'Superbowl Wins', 'GWD', 'TD Passes', 'Num_Games']]\n",
    "retired['TD Passes'] = retired['TD Passes'] / retired['Num_Games']\n",
    "retired['HoF'] = retired['HoF'].apply(lambda x: 0 if not x else 1)\n",
    "retired['qbr'] = rating\n",
    "retired.drop('Num_Games', axis=1, inplace = True)\n",
    "retired.head()"
   ]
  },
  {
   "cell_type": "code",
   "execution_count": 55,
   "metadata": {},
   "outputs": [
    {
     "data": {
      "text/html": [
       "<div>\n",
       "<style scoped>\n",
       "    .dataframe tbody tr th:only-of-type {\n",
       "        vertical-align: middle;\n",
       "    }\n",
       "\n",
       "    .dataframe tbody tr th {\n",
       "        vertical-align: top;\n",
       "    }\n",
       "\n",
       "    .dataframe thead th {\n",
       "        text-align: right;\n",
       "    }\n",
       "</style>\n",
       "<table border=\"1\" class=\"dataframe\">\n",
       "  <thead>\n",
       "    <tr style=\"text-align: right;\">\n",
       "      <th></th>\n",
       "      <th>Superbowl Wins</th>\n",
       "      <th>GWD</th>\n",
       "      <th>TD Passes</th>\n",
       "      <th>qbr</th>\n",
       "    </tr>\n",
       "  </thead>\n",
       "  <tbody>\n",
       "    <tr>\n",
       "      <th>271</th>\n",
       "      <td>0.0</td>\n",
       "      <td>0.0</td>\n",
       "      <td>0.468966</td>\n",
       "      <td>73</td>\n",
       "    </tr>\n",
       "    <tr>\n",
       "      <th>429</th>\n",
       "      <td>0.0</td>\n",
       "      <td>1.0</td>\n",
       "      <td>0.380000</td>\n",
       "      <td>77</td>\n",
       "    </tr>\n",
       "    <tr>\n",
       "      <th>440</th>\n",
       "      <td>0.0</td>\n",
       "      <td>1.0</td>\n",
       "      <td>0.821192</td>\n",
       "      <td>66</td>\n",
       "    </tr>\n",
       "    <tr>\n",
       "      <th>245</th>\n",
       "      <td>0.0</td>\n",
       "      <td>1.0</td>\n",
       "      <td>0.769231</td>\n",
       "      <td>82</td>\n",
       "    </tr>\n",
       "    <tr>\n",
       "      <th>244</th>\n",
       "      <td>0.0</td>\n",
       "      <td>0.0</td>\n",
       "      <td>0.179104</td>\n",
       "      <td>50</td>\n",
       "    </tr>\n",
       "  </tbody>\n",
       "</table>\n",
       "</div>"
      ],
      "text/plain": [
       "     Superbowl Wins  GWD  TD Passes  qbr\n",
       "271             0.0  0.0   0.468966   73\n",
       "429             0.0  1.0   0.380000   77\n",
       "440             0.0  1.0   0.821192   66\n",
       "245             0.0  1.0   0.769231   82\n",
       "244             0.0  0.0   0.179104   50"
      ]
     },
     "execution_count": 55,
     "metadata": {},
     "output_type": "execute_result"
    }
   ],
   "source": [
    "X = retired.drop([\"HoF\"], axis=1)\n",
    "y = retired['HoF']\n",
    "X_train, X_test, y_train, y_test = train_test_split(X, y, test_size=0.33, random_state=42)\n",
    "qbr_model = svm.SVC(gamma='auto').fit(X_train, y_train)"
   ]
  },
  {
   "cell_type": "code",
   "execution_count": 51,
   "metadata": {},
   "outputs": [
    {
     "ename": "ValueError",
     "evalue": "X.shape[1] = 4 should be equal to 3, the number of features at training time",
     "output_type": "error",
     "traceback": [
      "\u001b[1;31m---------------------------------------------------------------------------\u001b[0m",
      "\u001b[1;31mValueError\u001b[0m                                Traceback (most recent call last)",
      "\u001b[1;32m<ipython-input-51-60f180983faa>\u001b[0m in \u001b[0;36m<module>\u001b[1;34m\u001b[0m\n\u001b[1;32m----> 1\u001b[1;33m \u001b[0mprint\u001b[0m\u001b[1;33m(\u001b[0m\u001b[1;34m'The SVM model was able to guess '\u001b[0m \u001b[1;33m+\u001b[0m \u001b[0mstr\u001b[0m\u001b[1;33m(\u001b[0m\u001b[0mclf\u001b[0m\u001b[1;33m.\u001b[0m\u001b[0mscore\u001b[0m\u001b[1;33m(\u001b[0m\u001b[0mX_test\u001b[0m\u001b[1;33m,\u001b[0m \u001b[0my_test\u001b[0m\u001b[1;33m)\u001b[0m \u001b[1;33m*\u001b[0m \u001b[1;36m100\u001b[0m\u001b[1;33m)\u001b[0m \u001b[1;33m+\u001b[0m \u001b[1;34m'% of the player\\'s Hall of Fame status correctly'\u001b[0m\u001b[1;33m)\u001b[0m\u001b[1;33m\u001b[0m\u001b[0m\n\u001b[0m\u001b[0;32m      2\u001b[0m \u001b[0mhof_retired\u001b[0m \u001b[1;33m=\u001b[0m \u001b[0mretired\u001b[0m\u001b[1;33m[\u001b[0m\u001b[0mretired\u001b[0m\u001b[1;33m[\u001b[0m\u001b[1;34m'HoF'\u001b[0m\u001b[1;33m]\u001b[0m \u001b[1;33m==\u001b[0m \u001b[1;36m1\u001b[0m\u001b[1;33m]\u001b[0m\u001b[1;33m\u001b[0m\u001b[0m\n\u001b[0;32m      3\u001b[0m \u001b[0mhof_retired\u001b[0m \u001b[1;33m=\u001b[0m \u001b[0mhof_retired\u001b[0m\u001b[1;33m.\u001b[0m\u001b[0mdrop\u001b[0m\u001b[1;33m(\u001b[0m\u001b[1;34m'HoF'\u001b[0m\u001b[1;33m,\u001b[0m \u001b[0maxis\u001b[0m\u001b[1;33m=\u001b[0m\u001b[1;36m1\u001b[0m\u001b[1;33m)\u001b[0m\u001b[1;33m\u001b[0m\u001b[0m\n\u001b[0;32m      4\u001b[0m \u001b[0moutcome\u001b[0m \u001b[1;33m=\u001b[0m \u001b[0mqbr_model\u001b[0m\u001b[1;33m.\u001b[0m\u001b[0mpredict\u001b[0m\u001b[1;33m(\u001b[0m\u001b[0mhof_retired\u001b[0m\u001b[1;33m)\u001b[0m\u001b[1;33m\u001b[0m\u001b[0m\n\u001b[0;32m      5\u001b[0m \u001b[0mcorrect\u001b[0m \u001b[1;33m=\u001b[0m \u001b[0mstr\u001b[0m\u001b[1;33m(\u001b[0m\u001b[0mlen\u001b[0m\u001b[1;33m(\u001b[0m\u001b[0moutcome\u001b[0m\u001b[1;33m[\u001b[0m\u001b[0mnp\u001b[0m\u001b[1;33m.\u001b[0m\u001b[0mwhere\u001b[0m\u001b[1;33m(\u001b[0m\u001b[0moutcome\u001b[0m \u001b[1;33m==\u001b[0m \u001b[1;36m1\u001b[0m\u001b[1;33m)\u001b[0m\u001b[1;33m]\u001b[0m\u001b[1;33m)\u001b[0m \u001b[1;33m/\u001b[0m \u001b[0mlen\u001b[0m\u001b[1;33m(\u001b[0m\u001b[0moutcome\u001b[0m\u001b[1;33m)\u001b[0m \u001b[1;33m*\u001b[0m \u001b[1;36m100\u001b[0m\u001b[1;33m)\u001b[0m\u001b[1;33m\u001b[0m\u001b[0m\n",
      "\u001b[1;32mc:\\users\\stoney\\appdata\\local\\programs\\python\\python36\\lib\\site-packages\\sklearn\\base.py\u001b[0m in \u001b[0;36mscore\u001b[1;34m(self, X, y, sample_weight)\u001b[0m\n\u001b[0;32m    355\u001b[0m         \"\"\"\n\u001b[0;32m    356\u001b[0m         \u001b[1;32mfrom\u001b[0m \u001b[1;33m.\u001b[0m\u001b[0mmetrics\u001b[0m \u001b[1;32mimport\u001b[0m \u001b[0maccuracy_score\u001b[0m\u001b[1;33m\u001b[0m\u001b[0m\n\u001b[1;32m--> 357\u001b[1;33m         \u001b[1;32mreturn\u001b[0m \u001b[0maccuracy_score\u001b[0m\u001b[1;33m(\u001b[0m\u001b[0my\u001b[0m\u001b[1;33m,\u001b[0m \u001b[0mself\u001b[0m\u001b[1;33m.\u001b[0m\u001b[0mpredict\u001b[0m\u001b[1;33m(\u001b[0m\u001b[0mX\u001b[0m\u001b[1;33m)\u001b[0m\u001b[1;33m,\u001b[0m \u001b[0msample_weight\u001b[0m\u001b[1;33m=\u001b[0m\u001b[0msample_weight\u001b[0m\u001b[1;33m)\u001b[0m\u001b[1;33m\u001b[0m\u001b[0m\n\u001b[0m\u001b[0;32m    358\u001b[0m \u001b[1;33m\u001b[0m\u001b[0m\n\u001b[0;32m    359\u001b[0m \u001b[1;33m\u001b[0m\u001b[0m\n",
      "\u001b[1;32mc:\\users\\stoney\\appdata\\local\\programs\\python\\python36\\lib\\site-packages\\sklearn\\svm\\base.py\u001b[0m in \u001b[0;36mpredict\u001b[1;34m(self, X)\u001b[0m\n\u001b[0;32m    572\u001b[0m             \u001b[0mClass\u001b[0m \u001b[0mlabels\u001b[0m \u001b[1;32mfor\u001b[0m \u001b[0msamples\u001b[0m \u001b[1;32min\u001b[0m \u001b[0mX\u001b[0m\u001b[1;33m.\u001b[0m\u001b[1;33m\u001b[0m\u001b[0m\n\u001b[0;32m    573\u001b[0m         \"\"\"\n\u001b[1;32m--> 574\u001b[1;33m         \u001b[0my\u001b[0m \u001b[1;33m=\u001b[0m \u001b[0msuper\u001b[0m\u001b[1;33m(\u001b[0m\u001b[1;33m)\u001b[0m\u001b[1;33m.\u001b[0m\u001b[0mpredict\u001b[0m\u001b[1;33m(\u001b[0m\u001b[0mX\u001b[0m\u001b[1;33m)\u001b[0m\u001b[1;33m\u001b[0m\u001b[0m\n\u001b[0m\u001b[0;32m    575\u001b[0m         \u001b[1;32mreturn\u001b[0m \u001b[0mself\u001b[0m\u001b[1;33m.\u001b[0m\u001b[0mclasses_\u001b[0m\u001b[1;33m.\u001b[0m\u001b[0mtake\u001b[0m\u001b[1;33m(\u001b[0m\u001b[0mnp\u001b[0m\u001b[1;33m.\u001b[0m\u001b[0masarray\u001b[0m\u001b[1;33m(\u001b[0m\u001b[0my\u001b[0m\u001b[1;33m,\u001b[0m \u001b[0mdtype\u001b[0m\u001b[1;33m=\u001b[0m\u001b[0mnp\u001b[0m\u001b[1;33m.\u001b[0m\u001b[0mintp\u001b[0m\u001b[1;33m)\u001b[0m\u001b[1;33m)\u001b[0m\u001b[1;33m\u001b[0m\u001b[0m\n\u001b[0;32m    576\u001b[0m \u001b[1;33m\u001b[0m\u001b[0m\n",
      "\u001b[1;32mc:\\users\\stoney\\appdata\\local\\programs\\python\\python36\\lib\\site-packages\\sklearn\\svm\\base.py\u001b[0m in \u001b[0;36mpredict\u001b[1;34m(self, X)\u001b[0m\n\u001b[0;32m    320\u001b[0m         \u001b[0my_pred\u001b[0m \u001b[1;33m:\u001b[0m \u001b[0marray\u001b[0m\u001b[1;33m,\u001b[0m \u001b[0mshape\u001b[0m \u001b[1;33m(\u001b[0m\u001b[0mn_samples\u001b[0m\u001b[1;33m,\u001b[0m\u001b[1;33m)\u001b[0m\u001b[1;33m\u001b[0m\u001b[0m\n\u001b[0;32m    321\u001b[0m         \"\"\"\n\u001b[1;32m--> 322\u001b[1;33m         \u001b[0mX\u001b[0m \u001b[1;33m=\u001b[0m \u001b[0mself\u001b[0m\u001b[1;33m.\u001b[0m\u001b[0m_validate_for_predict\u001b[0m\u001b[1;33m(\u001b[0m\u001b[0mX\u001b[0m\u001b[1;33m)\u001b[0m\u001b[1;33m\u001b[0m\u001b[0m\n\u001b[0m\u001b[0;32m    323\u001b[0m         \u001b[0mpredict\u001b[0m \u001b[1;33m=\u001b[0m \u001b[0mself\u001b[0m\u001b[1;33m.\u001b[0m\u001b[0m_sparse_predict\u001b[0m \u001b[1;32mif\u001b[0m \u001b[0mself\u001b[0m\u001b[1;33m.\u001b[0m\u001b[0m_sparse\u001b[0m \u001b[1;32melse\u001b[0m \u001b[0mself\u001b[0m\u001b[1;33m.\u001b[0m\u001b[0m_dense_predict\u001b[0m\u001b[1;33m\u001b[0m\u001b[0m\n\u001b[0;32m    324\u001b[0m         \u001b[1;32mreturn\u001b[0m \u001b[0mpredict\u001b[0m\u001b[1;33m(\u001b[0m\u001b[0mX\u001b[0m\u001b[1;33m)\u001b[0m\u001b[1;33m\u001b[0m\u001b[0m\n",
      "\u001b[1;32mc:\\users\\stoney\\appdata\\local\\programs\\python\\python36\\lib\\site-packages\\sklearn\\svm\\base.py\u001b[0m in \u001b[0;36m_validate_for_predict\u001b[1;34m(self, X)\u001b[0m\n\u001b[0;32m    472\u001b[0m             raise ValueError(\"X.shape[1] = %d should be equal to %d, \"\n\u001b[0;32m    473\u001b[0m                              \u001b[1;34m\"the number of features at training time\"\u001b[0m \u001b[1;33m%\u001b[0m\u001b[1;33m\u001b[0m\u001b[0m\n\u001b[1;32m--> 474\u001b[1;33m                              (n_features, self.shape_fit_[1]))\n\u001b[0m\u001b[0;32m    475\u001b[0m         \u001b[1;32mreturn\u001b[0m \u001b[0mX\u001b[0m\u001b[1;33m\u001b[0m\u001b[0m\n\u001b[0;32m    476\u001b[0m \u001b[1;33m\u001b[0m\u001b[0m\n",
      "\u001b[1;31mValueError\u001b[0m: X.shape[1] = 4 should be equal to 3, the number of features at training time"
     ]
    }
   ],
   "source": [
    "print('The SVM model was able to guess ' + str(qbr_model.score(X_test, y_test) * 100) + '% of the player\\'s Hall of Fame status correctly')\n",
    "hof_retired = retired[retired['HoF'] == 1]\n",
    "hof_retired = hof_retired.drop('HoF', axis=1)\n",
    "outcome = qbr_model.predict(hof_retired)\n",
    "correct = str(len(outcome[np.where(outcome == 1)]) / len(outcome) * 100)\n",
    "print('The SVM model was able to guess ' + correct + '% of the player\\'s of the players in the Hall of Fame correctly')"
   ]
  },
  {
   "cell_type": "markdown",
   "metadata": {},
   "source": [
    "# <center> Predicting Hall of Famer Players from the Active Group </center>"
   ]
  },
  {
   "cell_type": "code",
   "execution_count": null,
   "metadata": {},
   "outputs": [],
   "source": [
    "active = master_data[(master_data[\"Current Status\"] == \"Active\")].copy()\n",
    "active_master = master_data[(master_data[\"Current Status\"] == \"Active\")].copy()\n",
    "active = active[['HoF', 'Superbowl Wins', 'GWD', 'TD Passes', 'Num_Games']]\n",
    "active['TD Passes'] = active['TD Passes'] / active['Num_Games']\n",
    "active['HoF'] = active['HoF'].apply(lambda x: 0 if not x else 1)\n",
    "active.drop('Num_Games', axis=1, inplace = True)\n",
    "active.head()"
   ]
  },
  {
   "cell_type": "code",
   "execution_count": null,
   "metadata": {},
   "outputs": [],
   "source": [
    "filtered_data = active.drop('HoF', axis=1)\n",
    "predictions = clf.predict(filtered_data)\n",
    "active_master['HoF'] = predictions\n",
    "hall = active_master[active_master['HoF'] == 1]\n",
    "hall"
   ]
  },
  {
   "cell_type": "markdown",
   "metadata": {},
   "source": [
    "We believe that the players listed in the above cell have the best chance of entering the Hall of Fame compared to any of the other players marked active in our dataset. The predictions are not surprising at all as many NFL analysts have mentioned these names due to their significant performances in their careers. Depending on if they are able to uphold their current performance level, we hope to see these names enter the Hall of Fame."
   ]
  },
  {
   "cell_type": "markdown",
   "metadata": {},
   "source": [
    "# <center> Conclusion </center>"
   ]
  },
  {
   "cell_type": "markdown",
   "metadata": {},
   "source": []
  }
 ],
 "metadata": {
  "kernelspec": {
   "display_name": "Python 3",
   "language": "python",
   "name": "python3"
  },
  "language_info": {
   "codemirror_mode": {
    "name": "ipython",
    "version": 3
   },
   "file_extension": ".py",
   "mimetype": "text/x-python",
   "name": "python",
   "nbconvert_exporter": "python",
   "pygments_lexer": "ipython3",
   "version": "3.6.5"
  }
 },
 "nbformat": 4,
 "nbformat_minor": 2
}
